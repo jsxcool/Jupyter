{
 "cells": [
  {
   "cell_type": "code",
   "execution_count": 40,
   "metadata": {},
   "outputs": [],
   "source": [
    "import csv\n",
    "from sklearn.model_selection import train_test_split\n",
    "X = []   # features\n",
    "Y = []   # target\n",
    "dic1 = {'1st':1, '2nd':2, '3rd':3}  # hashmap\n",
    "dic2 = {'male':1, 'female':0}\n",
    "with open('Titanic.csv') as f:\n",
    "    reader = csv.reader(f)\n",
    "    for row in reader:\n",
    "        if reader.line_num == 1:\n",
    "            continue;\n",
    "        if row[5] == 'NA':\n",
    "            continue;\n",
    "        X.append([dic1[row[1]], dic2[row[4]], float(row[5]), int(row[6])])\n",
    "        Y.append(int(row[2]))\n",
    "\n",
    "x_train, x_test, y_train, y_test = train_test_split(X, Y, test_size=0.3)\n",
    "            \n"
   ]
  },
  {
   "cell_type": "code",
   "execution_count": 103,
   "metadata": {},
   "outputs": [
    {
     "name": "stdout",
     "output_type": "stream",
     "text": [
      "0.825136612021858\n",
      "[0. 0. 1. 0. 0. 0. 0. 0. 0. 0. 0. 0. 1. 0. 0. 1. 1. 0. 0. 0. 1. 1. 0. 0.\n",
      " 0. 1. 0. 1. 1. 1. 1. 1. 0. 1. 0. 0. 0. 0. 1. 0. 0. 1. 1. 1. 0. 1. 0. 0.\n",
      " 0. 1. 1. 0. 0. 0. 0. 0. 0. 1. 1. 0. 1. 0. 1. 1. 0. 0. 0. 0. 1. 0. 0. 1.\n",
      " 0. 0. 0. 0. 1. 1. 0. 1. 0. 1. 0. 1. 0. 0. 0. 0. 0. 1. 0. 1. 0. 0. 0. 0.\n",
      " 0. 0. 1. 1. 1. 1. 1. 0. 0. 1. 0. 0. 0. 1. 0. 0. 0. 0. 0. 1. 0. 1. 1. 0.\n",
      " 1. 1. 1. 1. 1. 1. 0. 1. 0. 0. 1. 1. 0. 0. 1. 1. 1. 0. 0. 0. 1. 0. 0. 0.\n",
      " 0. 0. 1. 0. 0. 0. 1. 0. 1. 1. 1. 1. 1. 1. 0. 0. 1. 0. 0. 0. 1. 0. 0. 1.\n",
      " 0. 0. 0. 0. 1. 1. 0. 1. 0. 0. 0. 0. 0. 0. 1. 0. 0. 0. 0. 1. 1. 1. 1. 0.\n",
      " 1. 0. 0. 1. 0. 0. 0. 0. 0. 0. 0. 0. 0. 0. 1. 0. 0. 0. 0. 1. 1. 0. 0. 1.\n",
      " 1. 0. 1. 0. 1. 0. 0. 1. 1. 0. 0. 0. 1. 1. 0. 0. 0. 0. 1. 1. 0. 1. 0. 1.\n",
      " 0. 0. 0. 0. 0. 0. 0. 0. 0. 0. 1. 0. 1. 1. 1. 0. 0. 0. 0. 1. 1. 0. 1. 0.\n",
      " 0. 0. 0. 0. 1. 0. 0. 0. 1. 1. 1. 1. 0. 0. 1. 1. 1. 0. 1. 1. 1. 0. 1. 0.\n",
      " 0. 0. 0. 0. 0. 0. 0. 0. 0. 0. 1. 0. 1. 1. 0. 0. 0. 0. 1. 0. 0. 1. 0. 0.\n",
      " 0. 0.]\n"
     ]
    }
   ],
   "source": [
    "from sklearn.neural_network import MLPClassifier\n",
    "clf = MLPClassifier(activation='logistic', solver='adam', learning_rate_init=0.1, tol=1e-4, random_state=1,\n",
    "                    hidden_layer_sizes=(2,4), max_iter=10000, momentum=0.9)\n",
    "clf.fit(x_train,y_train)\n",
    "Y_predict = clf.predict(x_test)\n",
    "print(clf.score(x_train, y_train))\n",
    "print(Y_predict)\n",
    "\n",
    "#print(clf.coefs_);\n"
   ]
  },
  {
   "cell_type": "code",
   "execution_count": 104,
   "metadata": {},
   "outputs": [
    {
     "name": "stdout",
     "output_type": "stream",
     "text": [
      "accuracy of survive/die for training data with 4 neurons: [0.8300395256916996, 0.8225469728601252]\n",
      "accuracy of survive/die for testing data with 4 neurons: [0.9101123595505618, 0.7733333333333333]\n",
      "accuracy of survive/die for training data with 40 neurons: [0.7727272727272727, 0.6206395348837209]\n",
      "accuracy of survive/die for testing data with 40 neurons: [0.75, 0.6020408163265306]\n",
      "accuracy of survive/die for training data with 100 neurons: [0.8275862068965517, 0.6145092460881935]\n",
      "accuracy of survive/die for testing data with 100 neurons: [0.6341463414634146, 0.6117216117216118]\n"
     ]
    }
   ],
   "source": [
    "def accuraccy2Survive_die(X, Y, clf):\n",
    "    clf.fit(X, Y)\n",
    "    Y_predict = clf.predict(X)\n",
    "    survive = 0\n",
    "    countPositive = 0\n",
    "    dead = 0\n",
    "    countNegative = 0\n",
    "    for i, j in zip(Y, Y_predict):\n",
    "        if j==1:\n",
    "            countPositive += 1\n",
    "            if i==1:\n",
    "                survive += 1\n",
    "        else:\n",
    "            countNegative += 1\n",
    "            if i==0:\n",
    "                dead += 1\n",
    "    accur_survive = survive/countPositive\n",
    "    accur_dead = dead/countNegative\n",
    "    return [accur_survive, accur_dead]\n",
    "\n",
    "clf1 = MLPClassifier(activation='logistic', solver='adam', learning_rate_init=0.1, tol=1e-4, random_state=1,\n",
    "                     hidden_layer_sizes=(2,4), max_iter=10000, momentum=0.9)\n",
    "clf2 = MLPClassifier(activation='logistic', solver='adam', learning_rate_init=0.1, tol=1e-4, random_state=1,\n",
    "                     hidden_layer_sizes=(2,40), max_iter=10000, momentum=0.9)\n",
    "clf3 = MLPClassifier(activation='logistic', solver='adam', learning_rate_init=0.1, tol=1e-4, random_state=1,\n",
    "                     hidden_layer_sizes=(2,100), max_iter=10000, momentum=0.9)\n",
    "print(\"accuracy of survive/die for training data with 4 neurons:\", \n",
    "      accuraccy2Survive_die(x_train, y_train, clf1))\n",
    "print(\"accuracy of survive/die for testing data with 4 neurons:\", \n",
    "      accuraccy2Survive_die(x_test, y_test, clf1))\n",
    "print(\"accuracy of survive/die for training data with 40 neurons:\", \n",
    "      accuraccy2Survive_die(x_train, y_train, clf2))\n",
    "print(\"accuracy of survive/die for testing data with 40 neurons:\", \n",
    "      accuraccy2Survive_die(x_test, y_test, clf2))\n",
    "print(\"accuracy of survive/die for training data with 100 neurons:\", \n",
    "      accuraccy2Survive_die(x_train, y_train, clf3))\n",
    "print(\"accuracy of survive/die for testing data with 100 neurons:\", \n",
    "      accuraccy2Survive_die(x_test, y_test, clf3))"
   ]
  },
  {
   "cell_type": "code",
   "execution_count": 105,
   "metadata": {},
   "outputs": [
    {
     "data": {
      "text/html": [
       "<div>\n",
       "<style scoped>\n",
       "    .dataframe tbody tr th:only-of-type {\n",
       "        vertical-align: middle;\n",
       "    }\n",
       "\n",
       "    .dataframe tbody tr th {\n",
       "        vertical-align: top;\n",
       "    }\n",
       "\n",
       "    .dataframe thead th {\n",
       "        text-align: right;\n",
       "    }\n",
       "</style>\n",
       "<table border=\"1\" class=\"dataframe\">\n",
       "  <thead>\n",
       "    <tr style=\"text-align: right;\">\n",
       "      <th></th>\n",
       "      <th>Accuracy_Survivor</th>\n",
       "      <th>Accuracy_Dead</th>\n",
       "    </tr>\n",
       "  </thead>\n",
       "  <tbody>\n",
       "    <tr>\n",
       "      <th>4 neurons train</th>\n",
       "      <td>0.830040</td>\n",
       "      <td>0.822547</td>\n",
       "    </tr>\n",
       "    <tr>\n",
       "      <th>4 neurons test</th>\n",
       "      <td>0.910112</td>\n",
       "      <td>0.773333</td>\n",
       "    </tr>\n",
       "    <tr>\n",
       "      <th>40 neurons train</th>\n",
       "      <td>0.772727</td>\n",
       "      <td>0.620640</td>\n",
       "    </tr>\n",
       "    <tr>\n",
       "      <th>40 neurons test</th>\n",
       "      <td>0.750000</td>\n",
       "      <td>0.602041</td>\n",
       "    </tr>\n",
       "    <tr>\n",
       "      <th>100 neurons train</th>\n",
       "      <td>0.827586</td>\n",
       "      <td>0.614509</td>\n",
       "    </tr>\n",
       "    <tr>\n",
       "      <th>100 neurons test</th>\n",
       "      <td>0.634146</td>\n",
       "      <td>0.611722</td>\n",
       "    </tr>\n",
       "    <tr>\n",
       "      <th>pruned train</th>\n",
       "      <td>0.882845</td>\n",
       "      <td>0.796160</td>\n",
       "    </tr>\n",
       "    <tr>\n",
       "      <th>pruned test</th>\n",
       "      <td>0.831683</td>\n",
       "      <td>0.770548</td>\n",
       "    </tr>\n",
       "  </tbody>\n",
       "</table>\n",
       "</div>"
      ],
      "text/plain": [
       "                   Accuracy_Survivor  Accuracy_Dead\n",
       "4 neurons train             0.830040       0.822547\n",
       "4 neurons test              0.910112       0.773333\n",
       "40 neurons train            0.772727       0.620640\n",
       "40 neurons test             0.750000       0.602041\n",
       "100 neurons train           0.827586       0.614509\n",
       "100 neurons test            0.634146       0.611722\n",
       "pruned train                0.882845       0.796160\n",
       "pruned test                 0.831683       0.770548"
      ]
     },
     "execution_count": 105,
     "metadata": {},
     "output_type": "execute_result"
    }
   ],
   "source": [
    "import pandas as pd\n",
    "from pandas import DataFrame\n",
    "accuracy_training_pruned = [0.8828451882845189, 0.7961595273264401]\n",
    "accuracy_testing_pruned =  [0.8316831683168316, 0.7705479452054794]\n",
    "data = [accuraccy2Survive_die(x_train, y_train, clf1),\n",
    "        accuraccy2Survive_die(x_test, y_test, clf1),\n",
    "        accuraccy2Survive_die(x_train, y_train, clf2),\n",
    "        accuraccy2Survive_die(x_test, y_test, clf2),\n",
    "        accuraccy2Survive_die(x_train, y_train, clf3),\n",
    "        accuraccy2Survive_die(x_test, y_test, clf3),\n",
    "        accuracy_training_pruned,\n",
    "        accuracy_testing_pruned ]\n",
    "DataFrame(data, columns=[\"Accuracy_Survivor\", \"Accuracy_Dead\"],\n",
    "          index = [\"4 neurons train\", \"4 neurons test\",\n",
    "                   \"40 neurons train\", \"40 neurons test\",\n",
    "                   \"100 neurons train\", \"100 neurons test\",\n",
    "                   \"pruned train\", \"pruned test\"])"
   ]
  },
  {
   "cell_type": "code",
   "execution_count": null,
   "metadata": {},
   "outputs": [],
   "source": []
  }
 ],
 "metadata": {
  "kernelspec": {
   "display_name": "Python 3",
   "language": "python",
   "name": "python3"
  },
  "language_info": {
   "codemirror_mode": {
    "name": "ipython",
    "version": 3
   },
   "file_extension": ".py",
   "mimetype": "text/x-python",
   "name": "python",
   "nbconvert_exporter": "python",
   "pygments_lexer": "ipython3",
   "version": "3.7.0"
  }
 },
 "nbformat": 4,
 "nbformat_minor": 2
}
