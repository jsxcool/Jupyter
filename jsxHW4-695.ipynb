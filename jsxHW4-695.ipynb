{
 "cells": [
  {
   "cell_type": "code",
   "execution_count": 101,
   "metadata": {},
   "outputs": [],
   "source": [
    "import csv\n",
    "from sklearn.model_selection import train_test_split\n",
    "X = []   # features\n",
    "Y = []   # target\n",
    "dic1 = {'1st':1, '2nd':2, '3rd':3}  # hashmap\n",
    "dic2 = {'male':1, 'female':0}\n",
    "with open('Titanic.csv') as f:\n",
    "    reader = csv.reader(f)\n",
    "    for row in reader:\n",
    "        if reader.line_num == 1:\n",
    "            continue;\n",
    "        if row[5] == 'NA':\n",
    "            continue;\n",
    "        X.append([dic1[row[1]], dic2[row[4]], float(row[5]), int(row[6])])\n",
    "        Y.append(int(row[2]))\n",
    "\n",
    "x_train, x_test, y_train, y_test = train_test_split(X, Y, test_size=0.3)\n",
    "            \n"
   ]
  },
  {
   "cell_type": "code",
   "execution_count": 102,
   "metadata": {},
   "outputs": [
    {
     "name": "stdout",
     "output_type": "stream",
     "text": [
      "0.8280254777070064\n",
      "<class 'numpy.int64'>\n"
     ]
    }
   ],
   "source": [
    "from sklearn.neural_network import MLPClassifier\n",
    "clf = MLPClassifier(activation='logistic', solver='adam', learning_rate_init=0.1, \n",
    "                    tol=1e-4, random_state=1, hidden_layer_sizes=(5,3), \n",
    "                    max_iter=10000, momentum=0.9)\n",
    "clf.fit(x_train,y_train)\n",
    "\n",
    "Y_predict = clf.predict(x_test)\n",
    "print(clf.score(x_test, y_test))\n",
    "print(type(Y_predict[1]))\n",
    "\n",
    "#print(clf.coefs_);\n"
   ]
  },
  {
   "cell_type": "code",
   "execution_count": 103,
   "metadata": {},
   "outputs": [
    {
     "name": "stdout",
     "output_type": "stream",
     "text": [
      "accuracy of survive/die for training data with 5 neurons: [0.8957345971563981, 0.7696737044145874]\n",
      "accuracy of survive/die for testing data with 5 neurons: [0.8736842105263158, 0.8401826484018264]\n",
      "accuracy of survive/die for training data with 10 neurons: [0.9222222222222223, 0.7409420289855072]\n",
      "accuracy of survive/die for testing data with 10 neurons: [0.7962962962962963, 0.8446601941747572]\n",
      "accuracy of survive/die for training data with 30 neurons: [0.7736486486486487, 0.8165137614678899]\n"
     ]
    },
    {
     "ename": "ZeroDivisionError",
     "evalue": "division by zero",
     "output_type": "error",
     "traceback": [
      "\u001b[0;31m---------------------------------------------------------------------------\u001b[0m",
      "\u001b[0;31mZeroDivisionError\u001b[0m                         Traceback (most recent call last)",
      "\u001b[0;32m<ipython-input-103-7a91d5184914>\u001b[0m in \u001b[0;36m<module>\u001b[0;34m()\u001b[0m\n\u001b[1;32m     36\u001b[0m       accuraccy2Survive_die(x_train, y_train, clf3))\n\u001b[1;32m     37\u001b[0m print(\"accuracy of survive/die for testing data with 30 neurons:\", \n\u001b[0;32m---> 38\u001b[0;31m       accuraccy2Survive_die(x_test, y_test, clf3))\n\u001b[0m",
      "\u001b[0;32m<ipython-input-103-7a91d5184914>\u001b[0m in \u001b[0;36maccuraccy2Survive_die\u001b[0;34m(X, Y, clf)\u001b[0m\n\u001b[1;32m     15\u001b[0m             \u001b[0;32mif\u001b[0m \u001b[0mi\u001b[0m\u001b[0;34m==\u001b[0m\u001b[0;36m0\u001b[0m\u001b[0;34m:\u001b[0m\u001b[0;34m\u001b[0m\u001b[0m\n\u001b[1;32m     16\u001b[0m                 \u001b[0mdead\u001b[0m \u001b[0;34m+=\u001b[0m \u001b[0;36m1\u001b[0m\u001b[0;34m\u001b[0m\u001b[0m\n\u001b[0;32m---> 17\u001b[0;31m     \u001b[0maccur_survive\u001b[0m \u001b[0;34m=\u001b[0m \u001b[0msurvive\u001b[0m\u001b[0;34m/\u001b[0m\u001b[0mcountPositive\u001b[0m\u001b[0;34m\u001b[0m\u001b[0m\n\u001b[0m\u001b[1;32m     18\u001b[0m     \u001b[0maccur_dead\u001b[0m \u001b[0;34m=\u001b[0m \u001b[0mdead\u001b[0m\u001b[0;34m/\u001b[0m\u001b[0mcountNegative\u001b[0m\u001b[0;34m\u001b[0m\u001b[0m\n\u001b[1;32m     19\u001b[0m     \u001b[0;32mreturn\u001b[0m \u001b[0;34m[\u001b[0m\u001b[0maccur_survive\u001b[0m\u001b[0;34m,\u001b[0m \u001b[0maccur_dead\u001b[0m\u001b[0;34m]\u001b[0m\u001b[0;34m\u001b[0m\u001b[0m\n",
      "\u001b[0;31mZeroDivisionError\u001b[0m: division by zero"
     ]
    }
   ],
   "source": [
    "def accuraccy2Survive_die(X, Y, clf):\n",
    "    clf.fit(X, Y)\n",
    "    Y_predict = clf.predict(X)\n",
    "    survive = 0\n",
    "    countPositive = 0\n",
    "    dead = 0\n",
    "    countNegative = 0\n",
    "    for i, j in zip(Y, Y_predict):\n",
    "        if j==1:\n",
    "            countPositive += 1\n",
    "            if i==1:\n",
    "                survive += 1\n",
    "        else:\n",
    "            countNegative += 1\n",
    "            if i==0:\n",
    "                dead += 1\n",
    "    accur_survive = survive/countPositive\n",
    "    accur_dead = dead/countNegative\n",
    "    return [accur_survive, accur_dead]\n",
    "\n",
    "clf1 = MLPClassifier(activation='logistic', solver='adam', learning_rate_init=0.1, \n",
    "                    tol=1e-4, hidden_layer_sizes=(5,3), max_iter=10000, momentum=0.9)\n",
    "clf2 = MLPClassifier(activation='logistic', solver='adam', learning_rate_init=0.1, \n",
    "                    tol=1e-4,  hidden_layer_sizes=(10,7), max_iter=10000, momentum=0.9)\n",
    "clf3 = MLPClassifier(activation='logistic', solver='adam', learning_rate_init=0.1, \n",
    "                    tol=1e-4,  hidden_layer_sizes=(30,18), max_iter=10000, momentum=0.9)\n",
    "print(\"accuracy of survive/die for training data with 5 neurons:\", \n",
    "      accuraccy2Survive_die(x_train, y_train, clf))\n",
    "print(\"accuracy of survive/die for testing data with 5 neurons:\", \n",
    "      accuraccy2Survive_die(x_test, y_test, clf1))\n",
    "print(\"accuracy of survive/die for training data with 10 neurons:\", \n",
    "      accuraccy2Survive_die(x_train, y_train, clf2))\n",
    "print(\"accuracy of survive/die for testing data with 10 neurons:\", \n",
    "      accuraccy2Survive_die(x_test, y_test, clf2))\n",
    "print(\"accuracy of survive/die for training data with 30 neurons:\", \n",
    "      accuraccy2Survive_die(x_train, y_train, clf3))\n",
    "print(\"accuracy of survive/die for testing data with 30 neurons:\", \n",
    "      accuraccy2Survive_die(x_test, y_test, clf3))"
   ]
  },
  {
   "cell_type": "code",
   "execution_count": 88,
   "metadata": {},
   "outputs": [
    {
     "data": {
      "text/html": [
       "<div>\n",
       "<style scoped>\n",
       "    .dataframe tbody tr th:only-of-type {\n",
       "        vertical-align: middle;\n",
       "    }\n",
       "\n",
       "    .dataframe tbody tr th {\n",
       "        vertical-align: top;\n",
       "    }\n",
       "\n",
       "    .dataframe thead th {\n",
       "        text-align: right;\n",
       "    }\n",
       "</style>\n",
       "<table border=\"1\" class=\"dataframe\">\n",
       "  <thead>\n",
       "    <tr style=\"text-align: right;\">\n",
       "      <th></th>\n",
       "      <th>Accuracy_Survivor</th>\n",
       "      <th>Accuracy_Dead</th>\n",
       "    </tr>\n",
       "  </thead>\n",
       "  <tbody>\n",
       "    <tr>\n",
       "      <th>5*3 neurons train</th>\n",
       "      <td>0.834061</td>\n",
       "      <td>0.799205</td>\n",
       "    </tr>\n",
       "    <tr>\n",
       "      <th>5*3 neurons test</th>\n",
       "      <td>0.891089</td>\n",
       "      <td>0.788732</td>\n",
       "    </tr>\n",
       "    <tr>\n",
       "      <th>10*7 neurons train</th>\n",
       "      <td>0.921348</td>\n",
       "      <td>0.768953</td>\n",
       "    </tr>\n",
       "    <tr>\n",
       "      <th>10*7 neurons test</th>\n",
       "      <td>0.905263</td>\n",
       "      <td>0.776256</td>\n",
       "    </tr>\n",
       "    <tr>\n",
       "      <th>30*18 neurons train</th>\n",
       "      <td>0.908602</td>\n",
       "      <td>0.774725</td>\n",
       "    </tr>\n",
       "    <tr>\n",
       "      <th>30*18 neurons test</th>\n",
       "      <td>0.913978</td>\n",
       "      <td>0.773756</td>\n",
       "    </tr>\n",
       "    <tr>\n",
       "      <th>pruned train</th>\n",
       "      <td>0.882845</td>\n",
       "      <td>0.796160</td>\n",
       "    </tr>\n",
       "    <tr>\n",
       "      <th>pruned test</th>\n",
       "      <td>0.831683</td>\n",
       "      <td>0.770548</td>\n",
       "    </tr>\n",
       "  </tbody>\n",
       "</table>\n",
       "</div>"
      ],
      "text/plain": [
       "                     Accuracy_Survivor  Accuracy_Dead\n",
       "5*3 neurons train             0.834061       0.799205\n",
       "5*3 neurons test              0.891089       0.788732\n",
       "10*7 neurons train            0.921348       0.768953\n",
       "10*7 neurons test             0.905263       0.776256\n",
       "30*18 neurons train           0.908602       0.774725\n",
       "30*18 neurons test            0.913978       0.773756\n",
       "pruned train                  0.882845       0.796160\n",
       "pruned test                   0.831683       0.770548"
      ]
     },
     "execution_count": 88,
     "metadata": {},
     "output_type": "execute_result"
    }
   ],
   "source": [
    "import pandas as pd\n",
    "from pandas import DataFrame\n",
    "accuracy_training_pruned = [0.8828451882845189, 0.7961595273264401]\n",
    "accuracy_testing_pruned =  [0.8316831683168316, 0.7705479452054794]\n",
    "data = [accuraccy2Survive_die(x_train, y_train, clf1),\n",
    "        accuraccy2Survive_die(x_test, y_test, clf1),\n",
    "        accuraccy2Survive_die(x_train, y_train, clf2),\n",
    "        accuraccy2Survive_die(x_test, y_test, clf2),\n",
    "        accuraccy2Survive_die(x_train, y_train, clf3),\n",
    "        accuraccy2Survive_die(x_test, y_test, clf3),\n",
    "        accuracy_training_pruned,\n",
    "        accuracy_testing_pruned ]\n",
    "DataFrame(data, columns=[\"Accuracy_Survivor\", \"Accuracy_Dead\"],\n",
    "          index = [\"5*3 neurons train\", \"5*3 neurons test\",\n",
    "                   \"10*7 neurons train\", \"10*7 neurons test\",\n",
    "                   \"30*18 neurons train\", \"30*18 neurons test\",\n",
    "                   \"pruned train\", \"pruned test\"])"
   ]
  },
  {
   "cell_type": "code",
   "execution_count": null,
   "metadata": {},
   "outputs": [],
   "source": []
  }
 ],
 "metadata": {
  "kernelspec": {
   "display_name": "Python 3",
   "language": "python",
   "name": "python3"
  },
  "language_info": {
   "codemirror_mode": {
    "name": "ipython",
    "version": 3
   },
   "file_extension": ".py",
   "mimetype": "text/x-python",
   "name": "python",
   "nbconvert_exporter": "python",
   "pygments_lexer": "ipython3",
   "version": "3.7.0"
  }
 },
 "nbformat": 4,
 "nbformat_minor": 2
}
