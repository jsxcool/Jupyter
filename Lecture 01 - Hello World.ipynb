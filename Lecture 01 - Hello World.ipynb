{
 "cells": [
  {
   "cell_type": "markdown",
   "metadata": {},
   "source": [
    "## What is Python"
   ]
  },
  {
   "cell_type": "markdown",
   "metadata": {},
   "source": [
    "Python is a high-level, interpreted and general-purpose dynamic programming language that focuses on code readability. The syntax in Python helps the programmers to do coding in fewer steps as compared to Java or C++. It supports multiple programming paradigms, including object-oriented, imperative, functional and procedural, and has a large and comprehensive standard library."
   ]
  },
  {
   "cell_type": "markdown",
   "metadata": {},
   "source": [
    "Advantages:\n",
    " - Extensive libraries\n",
    " - Integration with other languages\n",
    " - Productivity\n",
    " - Code is concise, highly readible and compact\n",
    " \n",
    " \n",
    "Disadvantages:\n",
    " - Getting slow\n",
    " - Too dynamic"
   ]
  },
  {
   "cell_type": "markdown",
   "metadata": {},
   "source": [
    "## HelloClass!"
   ]
  },
  {
   "cell_type": "markdown",
   "metadata": {},
   "source": [
    "Running python scripts (code) is quite simple. If you have already install python in your computer, you can run your code in your shell by 2 ways.\n",
    " - Run your script directly, type this command in your terminal (shell): *python YourPythonScript.py*. Python file can be edited by almost any text editor (Notepad on Windows, TextEdit on Mac, gedit/nano/vim on Ubuntu, etc).\n",
    " - Type *python* and hit Enter to start a python console, you can run your code in interactive mode (similiar to R and Matlab).\n",
    " \n",
    "Command *python* will call your Python interpreter. If you have many Python interpreters in your computer, you need to specify which one you would like to call."
   ]
  },
  {
   "cell_type": "markdown",
   "metadata": {},
   "source": [
    "## Python 2 or Python 3"
   ]
  },
  {
   "cell_type": "markdown",
   "metadata": {},
   "source": [
    "Python 2 or 3 are similar. There is no right or wrong in choosing either version. However, it is better to keep the same version to avoid common pitfalls switching. Also, if you are building your own software application, check on the third-party packages you plan to use. Python 3 has been a mature language, but it doesn't mean that every package supports both Python 2 and 3.  "
   ]
  },
  {
   "cell_type": "markdown",
   "metadata": {},
   "source": [
    "Once you install Python, a translation tool *2to3* should be automatically installed in your system. You can convert your python 2 script to python 3 scripy by easily running this in a terminal:"
   ]
  },
  {
   "cell_type": "markdown",
   "metadata": {},
   "source": [
    "<code>2to3 -W yourPython2file.py</code>"
   ]
  },
  {
   "cell_type": "code",
   "execution_count": null,
   "metadata": {
    "collapsed": true
   },
   "outputs": [],
   "source": [
    "# This is an invalid statement in Python 3.\n",
    "print 3"
   ]
  },
  {
   "cell_type": "code",
   "execution_count": 1,
   "metadata": {},
   "outputs": [
    {
     "name": "stdout",
     "output_type": "stream",
     "text": [
      "3\n"
     ]
    }
   ],
   "source": [
    "print(3)"
   ]
  },
  {
   "cell_type": "markdown",
   "metadata": {},
   "source": [
    "## Tools"
   ]
  },
  {
   "cell_type": "markdown",
   "metadata": {},
   "source": [
    "### Editor or IDE (Integrated Development Environment)"
   ]
  },
  {
   "cell_type": "markdown",
   "metadata": {},
   "source": [
    " - Editors are light, easy to use, and they (some without GUI) can be used almost everywhere. But you need to manully configure your editor and install extensions. I would recommand vim.\n",
    " - IDE is very powerful and efficient when you develop a program in a single language. But it is heavy, and its GUI makes it difficult to develop programs in a server. I would recommand Pycharm for python. https://www.jetbrains.com/pycharm/\n",
    " - Hybrid: vscode is a lightweight free tool which works like a editor, but it also has some features of IDE. It can support different languages by its extensions. https://code.visualstudio.com/docs/editor/whyvscode\n",
    " \n",
    "Writing code from scratch and learning to use documentations is important for beginners."
   ]
  },
  {
   "cell_type": "markdown",
   "metadata": {},
   "source": [
    "### Anaconda"
   ]
  },
  {
   "cell_type": "markdown",
   "metadata": {},
   "source": [
    "Anaconda is a powerful Python development platform, it supports Ipython (a powerful shell), Spider (a IDE), Jupyter notebook (which I am using now) and virtual environment management tool."
   ]
  },
  {
   "cell_type": "markdown",
   "metadata": {},
   "source": [
    "## Install Python"
   ]
  },
  {
   "cell_type": "markdown",
   "metadata": {},
   "source": [
    "Here is a concise installation instruction for install python on Windows or Mac OS:\n",
    "https://www.py4e.com/lessons/install"
   ]
  },
  {
   "cell_type": "markdown",
   "metadata": {},
   "source": [
    "But you are encouraged to use Linux for Python. Python developers have always been a open-source community, and you can benefit the most from both the Linux/Unix/Hadoop platforms when using Python. \n",
    "\n",
    "For setting up your Linux environment, I recommend you use\n",
    " - VMWare (virtual environment) [optional]\n",
    " - Ubuntu 16.04\n",
    " - Python 3.5 (defult version in Ubuntu 16.04)"
   ]
  },
  {
   "cell_type": "markdown",
   "metadata": {},
   "source": [
    "You are also encouraged to use Anaconda to manage your Python packages and related tools, you can download Anaconda from here: https://www.anaconda.com/download/"
   ]
  },
  {
   "cell_type": "markdown",
   "metadata": {},
   "source": [
    "## Install Packages"
   ]
  },
  {
   "cell_type": "markdown",
   "metadata": {},
   "source": [
    "##### In Windows Environment"
   ]
  },
  {
   "cell_type": "markdown",
   "metadata": {},
   "source": [
    "You can use the command\n",
    "\n",
    "    > conda \n",
    "    \n",
    "or\n",
    "\n",
    "    > pip\n",
    "    \n",
    "Both *conda* and *pip* come with your Anaconda installation. The main difference is that *conda* installs from binary packages and *pip* installs (but not all) from compiling the source. However, in Windows environemnt, compiling from the source means that you need to install Visual Studio. \n"
   ]
  },
  {
   "cell_type": "markdown",
   "metadata": {},
   "source": [
    "##### In Linux Environment"
   ]
  },
  {
   "cell_type": "markdown",
   "metadata": {},
   "source": [
    "You can use\n",
    "\n",
    "    > apt-get \n",
    "\n",
    "to install the system-wise packages or\n",
    "\n",
    "    > pip2 \n",
    "    > pip3\n",
    "\n",
    "in your local (virtual) environment. No additional C compiler is needed. "
   ]
  },
  {
   "cell_type": "markdown",
   "metadata": {},
   "source": [
    "## The Jupyter Notebook"
   ]
  },
  {
   "cell_type": "markdown",
   "metadata": {},
   "source": [
    "The Jupyter Notebook is a web application that allows you to create and share documents that contain live code, equations, visualizations and explanatory text. Uses include: data cleaning and transformation, numerical simulation, statistical modeling, machine learning and much more."
   ]
  },
  {
   "cell_type": "code",
   "execution_count": 2,
   "metadata": {},
   "outputs": [
    {
     "name": "stdout",
     "output_type": "stream",
     "text": [
      "0\n",
      "1\n",
      "2\n",
      "3\n",
      "4\n"
     ]
    }
   ],
   "source": [
    "for k in range(5):\n",
    "    print(k)\n",
    "    "
   ]
  },
  {
   "cell_type": "markdown",
   "metadata": {},
   "source": [
    "##### Calling the Underlying System"
   ]
  },
  {
   "cell_type": "code",
   "execution_count": 3,
   "metadata": {},
   "outputs": [
    {
     "name": "stdout",
     "output_type": "stream",
     "text": [
      "\n",
      "Pinging www.google.com [172.217.10.36] with 32 bytes of data:\n",
      "Reply from 172.217.10.36: bytes=32 time=23ms TTL=56\n",
      "Reply from 172.217.10.36: bytes=32 time=25ms TTL=56\n",
      "Reply from 172.217.10.36: bytes=32 time=27ms TTL=56\n",
      "Reply from 172.217.10.36: bytes=32 time=42ms TTL=56\n",
      "\n",
      "Ping statistics for 172.217.10.36:\n",
      "    Packets: Sent = 4, Received = 4, Lost = 0 (0% loss),\n",
      "Approximate round trip times in milli-seconds:\n",
      "    Minimum = 23ms, Maximum = 42ms, Average = 29ms\n"
     ]
    }
   ],
   "source": [
    "!ping www.google.com"
   ]
  },
  {
   "cell_type": "markdown",
   "metadata": {},
   "source": [
    "Please remember that ! command is system dependent. Difference operating systems will response differently. "
   ]
  },
  {
   "cell_type": "markdown",
   "metadata": {},
   "source": [
    "##### Magic Commands"
   ]
  },
  {
   "cell_type": "code",
   "execution_count": null,
   "metadata": {
    "collapsed": true
   },
   "outputs": [],
   "source": [
    "!type helloworld.py"
   ]
  },
  {
   "cell_type": "code",
   "execution_count": null,
   "metadata": {
    "collapsed": true
   },
   "outputs": [],
   "source": [
    "run hello.py"
   ]
  },
  {
   "cell_type": "code",
   "execution_count": 4,
   "metadata": {},
   "outputs": [
    {
     "name": "stdout",
     "output_type": "stream",
     "text": [
      "The slowest run took 5.26 times longer than the fastest. This could mean that an intermediate result is being cached.\n",
      "100 loops, best of 3: 2.47 ms per loop\n"
     ]
    }
   ],
   "source": [
    "%timeit for k in range(100000): pass"
   ]
  },
  {
   "cell_type": "code",
   "execution_count": null,
   "metadata": {
    "collapsed": true
   },
   "outputs": [],
   "source": [
    "%run Module2.py"
   ]
  },
  {
   "cell_type": "code",
   "execution_count": null,
   "metadata": {
    "collapsed": true
   },
   "outputs": [],
   "source": [
    "%run temp.py"
   ]
  },
  {
   "cell_type": "markdown",
   "metadata": {},
   "source": [
    "# A Python program"
   ]
  },
  {
   "cell_type": "markdown",
   "metadata": {},
   "source": [
    "Here is a typical python program, let's look into it."
   ]
  },
  {
   "cell_type": "code",
   "execution_count": 7,
   "metadata": {},
   "outputs": [
    {
     "name": "stdout",
     "output_type": "stream",
     "text": [
      "1.0 TB\n",
      "931.3 GiB\n"
     ]
    }
   ],
   "source": [
    "SUFFIXES = {1000: ['KB', 'MB', 'GB', 'TB', 'PB', 'EB', 'ZB', 'YB'],          \n",
    "            1024: ['KiB', 'MiB', 'GiB', 'TiB', 'PiB', 'EiB', 'ZiB', 'YiB']}\n",
    "\n",
    "\n",
    "def approximate_size(size, a_kilobyte_is_1024_bytes=True):\n",
    "    '''Convert a file size to human-readable form.\n",
    "    Keyword arguments:\n",
    "    size -- file size in bytes\n",
    "    a_kilobyte_is_1024_bytes -- if True (default), use multiples of 1024\n",
    "    if False, use multiples of 1000\n",
    "    Returns: string\n",
    "    '''\n",
    "    if size < 0:\n",
    "        raise ValueError('number must be non-negative')\n",
    "    multiple = 1024 if a_kilobyte_is_1024_bytes else 1000 # C: multiple = a_kilobyte_is_1024_bytes ? 1024 : 1000\n",
    "    for suffix in SUFFIXES[multiple]:\n",
    "        size /= multiple\n",
    "        if size < multiple:\n",
    "            return '{0:.1f} {1}'.format(size, suffix)\n",
    "    raise ValueError('number too large')\n",
    "\n",
    "\n",
    "if __name__ == '__main__':\n",
    "    print(approximate_size(1000000000000, False))\n",
    "    print(approximate_size(1000000000000))"
   ]
  },
  {
   "cell_type": "markdown",
   "metadata": {},
   "source": [
    " - SUFFIXES: A dictionary (basic data structure in python) whose key is a INT type number, and value is a list (another basic dasta structure in python)\n",
    " - Using keyword def to define a function\n",
    " - Indent is meaningful in python, an indent generally follows colon (:)\n",
    " - *\\__name\\__* is an attribute of a module object, it is the name of the module if you using *import*, but it is *\\__main\\__* if you run it directly.\n",
    " - Using three single quotation to write doc string (''' ''')\n",
    " - Using # to comment"
   ]
  },
  {
   "cell_type": "code",
   "execution_count": 8,
   "metadata": {},
   "outputs": [
    {
     "data": {
      "text/plain": [
       "'Convert a file size to human-readable form.\\n    Keyword arguments:\\n    size -- file size in bytes\\n    a_kilobyte_is_1024_bytes -- if True (default), use multiples of 1024\\n    if False, use multiples of 1000\\n    Returns: string\\n    '"
      ]
     },
     "execution_count": 8,
     "metadata": {},
     "output_type": "execute_result"
    }
   ],
   "source": [
    "approximate_size.__doc__"
   ]
  },
  {
   "cell_type": "code",
   "execution_count": 9,
   "metadata": {},
   "outputs": [
    {
     "ename": "ValueError",
     "evalue": "number must be non-negative",
     "output_type": "error",
     "traceback": [
      "\u001b[1;31m---------------------------------------------------------------------------\u001b[0m",
      "\u001b[1;31mValueError\u001b[0m                                Traceback (most recent call last)",
      "\u001b[1;32m<ipython-input-9-4083ad106829>\u001b[0m in \u001b[0;36m<module>\u001b[1;34m()\u001b[0m\n\u001b[1;32m----> 1\u001b[1;33m \u001b[0mapproximate_size\u001b[0m\u001b[1;33m(\u001b[0m\u001b[1;33m-\u001b[0m\u001b[1;36m1\u001b[0m\u001b[1;33m)\u001b[0m\u001b[1;33m\u001b[0m\u001b[0m\n\u001b[0m",
      "\u001b[1;32m<ipython-input-7-754fa45a6b52>\u001b[0m in \u001b[0;36mapproximate_size\u001b[1;34m(size, a_kilobyte_is_1024_bytes)\u001b[0m\n\u001b[0;32m     12\u001b[0m     '''\n\u001b[0;32m     13\u001b[0m     \u001b[1;32mif\u001b[0m \u001b[0msize\u001b[0m \u001b[1;33m<\u001b[0m \u001b[1;36m0\u001b[0m\u001b[1;33m:\u001b[0m\u001b[1;33m\u001b[0m\u001b[0m\n\u001b[1;32m---> 14\u001b[1;33m         \u001b[1;32mraise\u001b[0m \u001b[0mValueError\u001b[0m\u001b[1;33m(\u001b[0m\u001b[1;34m'number must be non-negative'\u001b[0m\u001b[1;33m)\u001b[0m\u001b[1;33m\u001b[0m\u001b[0m\n\u001b[0m\u001b[0;32m     15\u001b[0m     \u001b[0mmultiple\u001b[0m \u001b[1;33m=\u001b[0m \u001b[1;36m1024\u001b[0m \u001b[1;32mif\u001b[0m \u001b[0ma_kilobyte_is_1024_bytes\u001b[0m \u001b[1;32melse\u001b[0m \u001b[1;36m1000\u001b[0m\u001b[1;33m\u001b[0m\u001b[0m\n\u001b[0;32m     16\u001b[0m     \u001b[1;32mfor\u001b[0m \u001b[0msuffix\u001b[0m \u001b[1;32min\u001b[0m \u001b[0mSUFFIXES\u001b[0m\u001b[1;33m[\u001b[0m\u001b[0mmultiple\u001b[0m\u001b[1;33m]\u001b[0m\u001b[1;33m:\u001b[0m\u001b[1;33m\u001b[0m\u001b[0m\n",
      "\u001b[1;31mValueError\u001b[0m: number must be non-negative"
     ]
    }
   ],
   "source": [
    "approximate_size(-1)"
   ]
  },
  {
   "cell_type": "code",
   "execution_count": null,
   "metadata": {
    "collapsed": true
   },
   "outputs": [],
   "source": []
  }
 ],
 "metadata": {
  "kernelspec": {
   "display_name": "Python 3",
   "language": "python",
   "name": "python3"
  },
  "language_info": {
   "codemirror_mode": {
    "name": "ipython",
    "version": 3
   },
   "file_extension": ".py",
   "mimetype": "text/x-python",
   "name": "python",
   "nbconvert_exporter": "python",
   "pygments_lexer": "ipython3",
   "version": "3.6.5"
  }
 },
 "nbformat": 4,
 "nbformat_minor": 1
}
