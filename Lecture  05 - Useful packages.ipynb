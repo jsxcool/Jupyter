{
 "cells": [
  {
   "cell_type": "markdown",
   "metadata": {},
   "source": [
    "In this lecture, you will learn to use some useful built-in packages, those packages have been installed when you install your Python intepretor.For each of the packages, I will only introduce some common objects (functions, classes) due to time limit. Please find more information in attached offical document. All the material in this lecture is optional."
   ]
  },
  {
   "cell_type": "markdown",
   "metadata": {},
   "source": [
    "# 1. OS package\n",
    "* https://docs.python.org/3/library/os.html\n",
    "* This module provides a portable way of using operating system dependent functionality. You can get access to your file system, manage processes, read/write files, check system information through the interfaces provided by this package.\n",
    "* Here is a simple checklist of functions and corresponding commands in terminal (Linux/Mac OS)\n"
   ]
  },
  {
   "cell_type": "code",
   "execution_count": null,
   "metadata": {},
   "outputs": [],
   "source": [
    "'''\n",
    "cd -- os.chdir() # change directory\n",
    "ls -- os.listdir() # list file/directories in one directory\n",
    "mkdir -- os.mkdir() # make a new directory\n",
    "rm -- os.remove(), os.rmdir() # remove file/directories\n",
    "kill -- os.kill() # kill a process\n",
    "'''"
   ]
  },
  {
   "cell_type": "code",
   "execution_count": null,
   "metadata": {},
   "outputs": [],
   "source": [
    "dir(os)"
   ]
  },
  {
   "cell_type": "markdown",
   "metadata": {},
   "source": [
    "* Here is some useful functions."
   ]
  },
  {
   "cell_type": "code",
   "execution_count": null,
   "metadata": {},
   "outputs": [],
   "source": [
    "import os"
   ]
  },
  {
   "cell_type": "code",
   "execution_count": null,
   "metadata": {},
   "outputs": [],
   "source": [
    "# This function will tell you how many CPU cores is available in your computer.\n",
    "os.cpu_count()"
   ]
  },
  {
   "cell_type": "code",
   "execution_count": null,
   "metadata": {},
   "outputs": [],
   "source": [
    "# This function will return current work directory, the default path for saving and loading file.\n",
    "os.getcwd()"
   ]
  },
  {
   "cell_type": "code",
   "execution_count": null,
   "metadata": {},
   "outputs": [],
   "source": [
    "import sys\n",
    "sys.path"
   ]
  },
  {
   "cell_type": "code",
   "execution_count": null,
   "metadata": {},
   "outputs": [],
   "source": [
    "# Here you can add relative path to sys.path, such as the current directory ('.') and upper directory ('..').\n",
    "lib_path = os.path.abspath(os.path.join('..'))\n",
    "sys.path.append(lib_path)\n",
    "sys.path"
   ]
  },
  {
   "cell_type": "markdown",
   "metadata": {},
   "source": [
    "# 2. collections\n",
    "* https://docs.python.org/3/library/collections.html\n",
    "* This module implements specialized container datatypes providing alternatives to Python’s general purpose built-in containers, dict, list, set, and tuple.\n",
    "* It contains \n",
    "    1. namedtuple:\tfactory function for creating tuple subclasses with named fields\n",
    "    2. deque:\tlist-like container with fast appends and pops on either end\n",
    "    3. ChainMap:\tdict-like class for creating a single view of multiple mappings\n",
    "    4. Counter:\tdict subclass for counting hashable objects\n",
    "    5. OrderedDict:\tdict subclass that remembers the order entries were added\n",
    "    6. defaultdict:\tdict subclass that calls a factory function to supply missing values\n",
    "    7. UserDict:\twrapper around dictionary objects for easier dict subclassing\n",
    "    8. UserList:\twrapper around list objects for easier list subclassing\n",
    "    9. UserString: \twrapper around string objects for easier string subclassing\n"
   ]
  },
  {
   "cell_type": "markdown",
   "metadata": {},
   "source": [
    "### 2.1. Counter\n",
    "A counter tool is provided to support convenient and rapid tallies."
   ]
  },
  {
   "cell_type": "code",
   "execution_count": null,
   "metadata": {},
   "outputs": [],
   "source": [
    "# Tally occurrences of words in a list\n",
    "cnt = dict()\n",
    "word_list = ['red', 'blue', 'red', 'green', 'blue', 'blue']\n",
    "for word in word_list:\n",
    "    if word in cnt:\n",
    "        cnt[word] += 1\n",
    "    else:\n",
    "        cnt[word] = 1\n",
    "cnt"
   ]
  },
  {
   "cell_type": "code",
   "execution_count": null,
   "metadata": {},
   "outputs": [],
   "source": [
    "from collections import Counter\n",
    "dict(Counter(word_list))"
   ]
  },
  {
   "cell_type": "markdown",
   "metadata": {},
   "source": [
    "### 2.2. OrderedDict\n",
    "Return an instance of a dict subclass, supporting the usual dict methods. An OrderedDict is a dict that remembers the order that keys were first inserted."
   ]
  },
  {
   "cell_type": "code",
   "execution_count": null,
   "metadata": {},
   "outputs": [],
   "source": [
    "# For some Python version, the built-in dict() data structure has not order.\n",
    "'''\n",
    "\n",
    "Python 3.5.2 (default, Nov 23 2017, 16:37:01)\n",
    "[GCC 5.4.0 20160609] on linux\n",
    "Type \"help\", \"copyright\", \"credits\" or \"license\" for more information.\n",
    ">>> d = dict(banana=3, apple=4, pear=1, orange=2)\n",
    ">>> d\n",
    "{'pear': 1, 'orange': 2, 'banana': 3, 'apple': 4}\n",
    "\n",
    "'''"
   ]
  },
  {
   "cell_type": "code",
   "execution_count": null,
   "metadata": {},
   "outputs": [],
   "source": [
    "from collections import OrderedDict\n",
    "d = OrderedDict(banana=3, apple=4, pear=1, orange=2)\n",
    "print(d)\n",
    "print(d['banana'])"
   ]
  },
  {
   "cell_type": "markdown",
   "metadata": {},
   "source": [
    "# 3. itertools\n",
    "* https://docs.python.org/3/library/itertools.html\n",
    "* This module implements a number of iterator building blocks. The module standardizes a core set of fast, memory efficient tools that are useful by themselves or in combination. Together, they form an “iterator algebra” making it possible to construct specialized tools succinctly and efficiently in pure Python.\n",
    "* Each of the following tools returns a iterable object."
   ]
  },
  {
   "cell_type": "markdown",
   "metadata": {},
   "source": [
    "### 3.1. product"
   ]
  },
  {
   "cell_type": "code",
   "execution_count": null,
   "metadata": {},
   "outputs": [],
   "source": [
    "from itertools import product\n",
    "a = [1,2,3]\n",
    "b = ['a','b']\n",
    "\n",
    "list(product(a,b))"
   ]
  },
  {
   "cell_type": "markdown",
   "metadata": {},
   "source": [
    "### 3.2. permutations"
   ]
  },
  {
   "cell_type": "code",
   "execution_count": null,
   "metadata": {},
   "outputs": [],
   "source": [
    "from itertools import permutations\n",
    "\n",
    "print(list(permutations([1,2,3], r=3)))\n",
    "print(list(permutations([1,2,3], r=2)))\n",
    "print(list(permutations([1,2,3], r=1)))"
   ]
  },
  {
   "cell_type": "markdown",
   "metadata": {},
   "source": [
    "### 3.3. combinations"
   ]
  },
  {
   "cell_type": "code",
   "execution_count": null,
   "metadata": {},
   "outputs": [],
   "source": [
    "from itertools import combinations\n",
    "\n",
    "list(combinations([1,2,3], r=2))"
   ]
  },
  {
   "cell_type": "markdown",
   "metadata": {},
   "source": [
    "# 4. multiprocessing & threading\n",
    "* multiprocessing: https://docs.python.org/3.7/library/multiprocessing.html\n",
    "* threading: https://docs.python.org/3.7/library/threading.html\n",
    "* multiprocessing and threading are both for excuting code simultaneously. But one is to populate multiple processes, while the other can launch multiple threadings.\n",
    "* A big difference between process and thread is that different processes won't share memory but different threads can get access to the same varibles.\n",
    "* But for CPython, all the threadings will be launched in the same CPU core due to global lock. (You can not make full use of computation resource by threading)"
   ]
  },
  {
   "cell_type": "code",
   "execution_count": null,
   "metadata": {},
   "outputs": [],
   "source": [
    "import time\n",
    "def myFun(x):\n",
    "    print('\\nsleeping')\n",
    "    time.sleep(2) # Pause for 2 seconds\n",
    "    print('\\n'+str(2*x))"
   ]
  },
  {
   "cell_type": "code",
   "execution_count": null,
   "metadata": {},
   "outputs": [],
   "source": [
    "for x in [1,10]:\n",
    "    myFun(x)"
   ]
  },
  {
   "cell_type": "code",
   "execution_count": null,
   "metadata": {},
   "outputs": [],
   "source": [
    "import threading\n",
    "\n",
    "\n",
    "myThr1 = threading.Thread(target = myFun, args = (1,))\n",
    "myThr2 = threading.Thread(target = myFun, args = (10,))\n",
    "myThr1.start()\n",
    "myThr2.start()\n",
    "print('\\nmain threading finished')"
   ]
  },
  {
   "cell_type": "markdown",
   "metadata": {},
   "source": [
    "\\* The following code may not work with Jupyter notebook, copy and excute it in a shell. "
   ]
  },
  {
   "cell_type": "code",
   "execution_count": null,
   "metadata": {},
   "outputs": [],
   "source": [
    "import multiprocessing\n",
    "\n",
    "myPro1 = multiprocessing.Process(target=myFun, args=(1,))\n",
    "myPro2 = multiprocessing.Process(target=myFun, args=(10,))\n",
    "myPro1.start()\n",
    "myPro2.start()\n",
    "print('\\nmain process finished')"
   ]
  },
  {
   "cell_type": "markdown",
   "metadata": {},
   "source": [
    "* The simpliest way to parallel your code: __pool__"
   ]
  },
  {
   "cell_type": "code",
   "execution_count": null,
   "metadata": {},
   "outputs": [],
   "source": [
    "import time\n",
    "import multiprocessing\n",
    "\n",
    "def myFun(x):\n",
    "    time.sleep(3) # sleep for 3 seconds\n",
    "    return 2*x\n",
    "myPool = multiprocessing.Pool(4) # Populating 4 workers\n",
    "print(myPool.map(myFun, [1,2,3,4]))\n"
   ]
  }
 ],
 "metadata": {
  "kernelspec": {
   "display_name": "Python 3",
   "language": "python",
   "name": "python3"
  },
  "language_info": {
   "codemirror_mode": {
    "name": "ipython",
    "version": 3
   },
   "file_extension": ".py",
   "mimetype": "text/x-python",
   "name": "python",
   "nbconvert_exporter": "python",
   "pygments_lexer": "ipython3",
   "version": "3.6.6"
  }
 },
 "nbformat": 4,
 "nbformat_minor": 2
}
