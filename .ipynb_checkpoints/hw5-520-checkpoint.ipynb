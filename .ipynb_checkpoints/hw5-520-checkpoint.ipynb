{
 "cells": [
  {
   "cell_type": "code",
   "execution_count": 4,
   "metadata": {},
   "outputs": [
    {
     "data": {
      "text/plain": [
       "array([ 4.76505973e+00, -2.21228324e+00, -6.06053701e-01,  3.64094543e+00,\n",
       "       -1.53899565e-01,  5.84847342e+00,  7.05821754e+00,  7.81839807e+00,\n",
       "        7.17689587e+00,  8.45707486e+00,  9.54621994e+00,  7.91888079e+00,\n",
       "        8.65250484e+00,  1.40958186e+01,  1.35541590e+01,  1.42204936e+01,\n",
       "        1.45002055e+01,  1.34962007e+01,  1.50140192e+01,  1.30963709e+01,\n",
       "        1.86560628e+01,  1.45947537e+01,  1.60845877e+01,  1.52094681e+01,\n",
       "        1.85150476e+01,  2.41179395e+01,  2.15488504e+01,  2.03698075e+01,\n",
       "        2.02234574e+01,  2.01584742e+01,  2.27399012e+01,  2.29173694e+01,\n",
       "        2.36443786e+01,  2.89789263e+01,  2.47951503e+01,  2.98524600e+01,\n",
       "        2.92890118e+01,  3.01386460e+01,  2.84005102e+01,  3.38095966e+01,\n",
       "        3.50157359e+01,  3.09320462e+01,  3.01862277e+01,  3.70705925e+01,\n",
       "        3.45869204e+01,  3.46830299e+01,  3.97872630e+01,  3.41310485e+01,\n",
       "        3.60637663e+01,  3.94570690e+01,  4.32168584e+01,  3.92363936e+01,\n",
       "        4.45781834e+01,  3.77858182e+01,  3.74814325e+01,  4.43890900e+01,\n",
       "        4.38426499e+01,  4.70307500e+01,  4.36934286e+01,  4.55879120e+01,\n",
       "        4.66279516e+01,  4.84454005e+01,  4.45691527e+01,  4.56125032e+01,\n",
       "        5.44256432e+01,  4.99956077e+01,  4.76712378e+01,  4.83040213e+01,\n",
       "        5.49841883e+01,  5.23198788e+01,  5.30790227e+01,  5.03409576e+01,\n",
       "        5.35940846e+01,  5.64127062e+01,  5.87558136e+01,  5.38120666e+01,\n",
       "        5.37219770e+01,  5.48254510e+01,  5.64469343e+01,  5.60654626e+01,\n",
       "        6.11666202e+01,  5.67902392e+01,  6.40934554e+01,  5.76656310e+01,\n",
       "        6.20562494e+01,  6.29028124e+01,  5.83407365e+01,  6.49452530e+01,\n",
       "        6.52999083e+01,  6.02788949e+01,  6.68808105e+01,  6.29576620e+01,\n",
       "        6.87050213e+01,  6.95364164e+01,  6.45503578e+01,  6.59204013e+01,\n",
       "        6.51139233e+01,  7.30254952e+01,  6.75069092e+01,  6.74119696e+01,\n",
       "        7.00552153e+01,  6.95717912e+01,  6.89402048e+01,  7.12267983e+01,\n",
       "        6.76655885e+01,  7.23924266e+01,  7.34946420e+01,  7.10032642e+01,\n",
       "        7.43008628e+01,  7.55188848e+01,  7.12671730e+01,  7.50110056e+01,\n",
       "        7.69375641e+01,  7.56705940e+01,  7.70359972e+01,  7.63908744e+01,\n",
       "        7.87024057e+01,  7.97850446e+01,  8.24143977e+01,  8.13060385e+01,\n",
       "        8.04163434e+01,  8.81926441e+01,  8.18133867e+01,  8.42620292e+01,\n",
       "        8.58443826e+01,  8.62520077e+01,  8.61371594e+01,  8.98919802e+01,\n",
       "        8.63552934e+01,  8.97317384e+01,  8.44849796e+01,  8.96469229e+01,\n",
       "        8.96700890e+01,  9.36335486e+01,  9.22338695e+01,  9.33212930e+01,\n",
       "        9.32980566e+01,  9.30379665e+01,  9.67494218e+01,  9.51681744e+01,\n",
       "        1.00022304e+02,  9.91461206e+01,  1.01950965e+02,  9.89088363e+01,\n",
       "        1.02937412e+02,  1.03241401e+02,  1.05085812e+02,  1.06326839e+02,\n",
       "        1.04253674e+02,  9.96178423e+01,  1.06560834e+02,  1.06000914e+02,\n",
       "        1.10538853e+02,  1.09233743e+02,  1.07721112e+02,  1.10505915e+02,\n",
       "        1.11501619e+02,  1.10926050e+02,  1.11655275e+02,  1.13413515e+02,\n",
       "        1.14490683e+02,  1.10272980e+02,  1.12602307e+02,  1.15942403e+02,\n",
       "        1.16464007e+02,  1.15066012e+02,  1.17246536e+02,  1.18672508e+02,\n",
       "        1.17538239e+02,  1.19430729e+02,  1.18202678e+02,  1.18907939e+02,\n",
       "        1.19913170e+02,  1.21685692e+02,  1.23119996e+02,  1.21958515e+02,\n",
       "        1.25207027e+02,  1.22098817e+02,  1.22232391e+02,  1.25839277e+02,\n",
       "        1.27688730e+02,  1.25885561e+02,  1.28219621e+02,  1.29905303e+02,\n",
       "        1.28453442e+02,  1.25142234e+02,  1.25891835e+02,  1.29679398e+02,\n",
       "        1.29921049e+02,  1.23947007e+02,  1.26439667e+02,  1.28679123e+02,\n",
       "        1.35047747e+02,  1.30224796e+02,  1.34357519e+02,  1.29167787e+02,\n",
       "        1.31950820e+02,  1.32576579e+02,  1.36253926e+02,  1.33310059e+02,\n",
       "        1.38296655e+02,  1.40485449e+02,  1.36771685e+02,  1.36540224e+02,\n",
       "        1.34433558e+02,  1.39542599e+02,  1.42145405e+02,  1.44291345e+02,\n",
       "        1.43893484e+02,  1.43224178e+02,  1.42854554e+02,  1.47984992e+02,\n",
       "        1.41328633e+02,  1.45435478e+02,  1.46287210e+02,  1.46125361e+02,\n",
       "        1.49531920e+02,  1.46071372e+02,  1.51897278e+02,  1.47195319e+02,\n",
       "        1.46628548e+02,  1.49409816e+02,  1.48655011e+02,  1.50776724e+02,\n",
       "        1.50674000e+02,  1.51739994e+02,  1.55750162e+02,  1.52635548e+02,\n",
       "        1.53761396e+02,  1.50767126e+02,  1.53350823e+02,  1.57678490e+02,\n",
       "        1.54993736e+02,  1.56809024e+02,  1.55622251e+02,  1.59828555e+02,\n",
       "        1.57845128e+02,  1.61117296e+02,  1.61314717e+02,  1.59524704e+02,\n",
       "        1.60117364e+02,  1.62562742e+02,  1.60212419e+02,  1.64011241e+02,\n",
       "        1.64411650e+02,  1.63136250e+02,  1.66622278e+02,  1.69231987e+02,\n",
       "        1.65298549e+02,  1.69931994e+02,  1.69552176e+02,  1.69079799e+02,\n",
       "        1.66554990e+02,  1.73520619e+02,  1.65828711e+02,  1.71298149e+02,\n",
       "        1.71748161e+02,  1.72043091e+02,  1.75316766e+02,  1.70643866e+02,\n",
       "        1.76196014e+02,  1.74885380e+02,  1.78591614e+02,  1.77375552e+02,\n",
       "        1.77727469e+02,  1.73617833e+02,  1.79199319e+02,  1.80257824e+02,\n",
       "        1.79016508e+02,  1.75876758e+02,  1.78869430e+02,  1.82572921e+02,\n",
       "        1.83895563e+02,  1.83530203e+02,  1.84864784e+02,  1.85695774e+02,\n",
       "        1.87719540e+02,  1.85218258e+02,  1.88700235e+02,  1.86336769e+02,\n",
       "        1.89455178e+02,  1.87621655e+02,  1.94047277e+02,  1.89522698e+02,\n",
       "        1.92603303e+02,  1.88588877e+02,  1.96071299e+02,  1.94065513e+02,\n",
       "        1.95453097e+02,  1.95666132e+02,  1.94889883e+02,  1.96813885e+02,\n",
       "        1.99081207e+02,  1.97793295e+02,  1.96028503e+02,  2.01164041e+02,\n",
       "        2.02884606e+02,  1.98171148e+02,  2.04454647e+02,  2.02444428e+02,\n",
       "        2.06133509e+02,  2.02198037e+02,  2.03707803e+02,  2.01969153e+02,\n",
       "        2.08290886e+02,  2.06084286e+02,  2.09524206e+02,  2.10923621e+02,\n",
       "        2.08911978e+02,  2.11745440e+02,  2.07866329e+02,  2.12944972e+02,\n",
       "        2.14805763e+02,  2.19222032e+02,  2.14157300e+02,  2.16566085e+02,\n",
       "        2.17526086e+02,  2.20767962e+02,  2.19700675e+02,  2.18118536e+02,\n",
       "        2.18011899e+02,  2.21035988e+02,  2.19838510e+02,  2.21374670e+02,\n",
       "        2.22831717e+02,  2.25830296e+02,  2.28441002e+02,  2.24509335e+02,\n",
       "        2.28152697e+02,  2.26166901e+02,  2.30146544e+02,  2.26615972e+02,\n",
       "        2.29917524e+02,  2.30925464e+02,  2.29601418e+02,  2.27123701e+02,\n",
       "        2.35823115e+02,  2.34590642e+02,  2.37358940e+02,  2.35703976e+02,\n",
       "        2.37869860e+02,  2.39835953e+02,  2.39082958e+02,  2.35937434e+02,\n",
       "        2.37493037e+02,  2.39112468e+02,  2.36889994e+02,  2.39893626e+02,\n",
       "        2.40533072e+02,  2.42379260e+02,  2.39882563e+02,  2.42964403e+02,\n",
       "        2.40096431e+02,  2.47821985e+02,  2.49459450e+02,  2.43470044e+02,\n",
       "        2.45517464e+02,  2.44520915e+02,  2.49906784e+02,  2.50642356e+02,\n",
       "        2.47540660e+02,  2.47381358e+02,  2.54357969e+02,  2.50480760e+02,\n",
       "        2.50350648e+02,  2.52609071e+02,  2.51610628e+02,  2.57306626e+02,\n",
       "        2.58628709e+02,  2.54761364e+02,  2.53197327e+02,  2.56378929e+02,\n",
       "        2.61246375e+02,  2.61687897e+02,  2.60771519e+02,  2.60507195e+02,\n",
       "        2.64075910e+02,  2.63834618e+02,  2.63468786e+02,  2.64058408e+02,\n",
       "        2.61173714e+02,  2.66148013e+02,  2.64252025e+02,  2.64929658e+02,\n",
       "        2.69424695e+02,  2.68540885e+02,  2.71197388e+02,  2.70207290e+02,\n",
       "        2.66897151e+02,  2.72400092e+02,  2.78663339e+02,  2.74638314e+02,\n",
       "        2.74241958e+02,  2.73925780e+02,  2.74819977e+02,  2.77188330e+02,\n",
       "        2.80442572e+02,  2.82265519e+02,  2.82579479e+02,  2.80579526e+02,\n",
       "        2.84431117e+02,  2.86173735e+02,  2.83471261e+02,  2.81920823e+02,\n",
       "        2.85106692e+02,  2.86680871e+02,  2.89084450e+02,  2.89379203e+02,\n",
       "        2.86986925e+02,  2.91883667e+02,  2.92138226e+02,  2.92295974e+02,\n",
       "        2.93741431e+02,  2.96363776e+02,  2.94507306e+02,  2.93462906e+02,\n",
       "        2.95362481e+02,  2.99436536e+02,  2.92224084e+02,  2.96912730e+02,\n",
       "        3.00572014e+02,  2.94880539e+02,  3.00153229e+02,  3.01577676e+02,\n",
       "        3.02870629e+02,  3.01591264e+02,  3.03529055e+02,  3.01200648e+02,\n",
       "        3.02918317e+02,  3.03546165e+02,  3.03838373e+02,  2.99735134e+02,\n",
       "        3.02659599e+02,  3.05280883e+02,  3.09548735e+02,  3.03561666e+02,\n",
       "        3.08347258e+02,  3.08636185e+02,  3.08769947e+02,  3.11159441e+02,\n",
       "        3.11647472e+02,  3.10734871e+02,  3.14174579e+02,  3.11453587e+02,\n",
       "        3.11210469e+02,  3.14040319e+02,  3.14707343e+02,  3.15311880e+02,\n",
       "        3.16489781e+02,  3.14173142e+02,  3.18541836e+02,  3.21709823e+02,\n",
       "        3.16855268e+02,  3.20815478e+02,  3.16313899e+02,  3.16869899e+02,\n",
       "        3.19313431e+02,  3.21786019e+02,  3.20009704e+02,  3.19115691e+02,\n",
       "        3.19571978e+02,  3.25511793e+02,  3.20101963e+02,  3.23458601e+02,\n",
       "        3.20997199e+02,  3.26869687e+02,  3.32110398e+02,  3.32699623e+02,\n",
       "        3.30532185e+02,  3.29254031e+02,  3.34053916e+02,  3.35923993e+02,\n",
       "        3.37101494e+02,  3.35081888e+02,  3.38744834e+02,  3.35871149e+02,\n",
       "        3.38092533e+02,  3.36193283e+02,  3.38891571e+02,  3.39260411e+02,\n",
       "        3.44539988e+02,  3.43847337e+02,  3.40953116e+02,  3.44150250e+02,\n",
       "        3.42225262e+02,  3.44598711e+02,  3.38661631e+02,  3.43029471e+02,\n",
       "        3.45463069e+02,  3.42587483e+02,  3.45392039e+02,  3.46356258e+02,\n",
       "        3.46594238e+02,  3.51625065e+02,  3.48332926e+02,  3.46970119e+02,\n",
       "        3.46234367e+02,  3.48000968e+02,  3.49819424e+02,  3.50028341e+02,\n",
       "        3.55139014e+02,  3.54547795e+02,  3.55196900e+02,  3.56507772e+02,\n",
       "        3.57965871e+02,  3.59330468e+02,  3.61927029e+02,  3.60472112e+02,\n",
       "        3.59627082e+02,  3.61755793e+02,  3.63450721e+02,  3.66419795e+02,\n",
       "        3.64350995e+02,  3.67155754e+02,  3.69347434e+02,  3.62393138e+02,\n",
       "        3.62524394e+02,  3.69736332e+02,  3.65360187e+02,  3.68566421e+02,\n",
       "        3.68045915e+02,  3.69939126e+02,  3.70138782e+02,  3.71436759e+02,\n",
       "        3.67252883e+02,  3.72750617e+02,  3.69465312e+02,  3.71278255e+02,\n",
       "        3.74405840e+02,  3.72916534e+02,  3.74285951e+02,  3.77097178e+02,\n",
       "        3.75653290e+02,  3.75078020e+02,  3.77440708e+02,  3.75990795e+02,\n",
       "        3.78506514e+02,  3.84182568e+02,  3.82509395e+02,  3.83946208e+02,\n",
       "        3.85511655e+02,  3.84571126e+02,  3.83069618e+02,  3.89484496e+02,\n",
       "        3.85155579e+02,  3.91467092e+02,  3.90315163e+02,  3.86994075e+02,\n",
       "        3.88494378e+02,  3.90693290e+02,  3.92889834e+02,  3.93711990e+02,\n",
       "        3.92596766e+02,  3.90854828e+02,  3.96387664e+02,  3.96075498e+02,\n",
       "        3.94834339e+02,  3.93639555e+02,  3.97449278e+02,  3.97999875e+02,\n",
       "        3.94592082e+02,  3.97316894e+02,  3.99554894e+02,  3.97221434e+02,\n",
       "        4.00333231e+02,  3.98165899e+02,  4.00064681e+02,  3.99876530e+02,\n",
       "        4.03870838e+02,  4.06900077e+02,  4.09000335e+02,  4.05406438e+02,\n",
       "        4.03644349e+02,  4.06867893e+02,  4.03569412e+02,  4.06900841e+02,\n",
       "        4.06636671e+02,  4.07382360e+02,  4.11542074e+02,  4.07415918e+02,\n",
       "        4.09866929e+02,  4.10783860e+02,  4.10589416e+02,  4.10448042e+02,\n",
       "        4.10613602e+02,  4.18163232e+02,  4.13289327e+02,  4.17250316e+02,\n",
       "        4.17041974e+02,  4.17926718e+02,  4.21174193e+02,  4.16890926e+02,\n",
       "        4.19883754e+02,  4.24326053e+02,  4.20093315e+02,  4.23701187e+02,\n",
       "        4.21423497e+02,  4.24267025e+02,  4.23745773e+02,  4.22409240e+02,\n",
       "        4.24923028e+02,  4.26157638e+02,  4.26206886e+02,  4.30334059e+02,\n",
       "        4.30653960e+02,  4.31356633e+02,  4.29072739e+02,  4.29934957e+02,\n",
       "        4.28789407e+02,  4.27046133e+02,  4.33281842e+02,  4.35583360e+02,\n",
       "        4.31702201e+02,  4.33187482e+02,  4.36740654e+02,  4.34161441e+02,\n",
       "        4.33849261e+02,  4.36858228e+02,  4.39458610e+02,  4.36058210e+02,\n",
       "        4.36890219e+02,  4.37225375e+02,  4.37158193e+02,  4.38446301e+02,\n",
       "        4.37030101e+02,  4.40109450e+02,  4.43953296e+02,  4.35948790e+02,\n",
       "        4.41342691e+02,  4.43116541e+02,  4.44635074e+02,  4.43964171e+02,\n",
       "        4.42313115e+02,  4.42196178e+02,  4.47220315e+02,  4.47279510e+02,\n",
       "        4.45339823e+02,  4.45533129e+02,  4.48640723e+02,  4.48007433e+02,\n",
       "        4.45706276e+02,  4.48957268e+02,  4.46846306e+02,  4.54842947e+02,\n",
       "        4.54384191e+02,  4.52645266e+02,  4.56414612e+02,  4.53257593e+02,\n",
       "        4.57358753e+02,  4.54087950e+02,  4.59561878e+02,  4.59362160e+02,\n",
       "        4.57130972e+02,  4.54740834e+02,  4.59140884e+02,  4.57335984e+02,\n",
       "        4.59573750e+02,  4.60223871e+02,  4.61294765e+02,  4.61673057e+02,\n",
       "        4.63423404e+02,  4.63385329e+02,  4.66087321e+02,  4.64022217e+02,\n",
       "        4.66599187e+02,  4.64064109e+02,  4.66840306e+02,  4.70566480e+02,\n",
       "        4.70599846e+02,  4.71739082e+02,  4.74686250e+02,  4.76225402e+02,\n",
       "        4.74091174e+02,  4.72671107e+02,  4.74839643e+02,  4.77222239e+02,\n",
       "        4.79495302e+02,  4.76221602e+02,  4.76343860e+02,  4.75702903e+02,\n",
       "        4.79692315e+02,  4.78439656e+02,  4.78627208e+02,  4.77393939e+02,\n",
       "        4.79346041e+02,  4.80769443e+02,  4.82746519e+02,  4.81110872e+02,\n",
       "        4.80652581e+02,  4.79077205e+02,  4.82451817e+02,  4.81049333e+02,\n",
       "        4.82447505e+02,  4.84327570e+02,  4.84003272e+02,  4.85728873e+02,\n",
       "        4.82578607e+02,  4.87524597e+02,  4.89242741e+02,  4.81708539e+02,\n",
       "        4.91654572e+02,  4.85388325e+02,  4.89019033e+02,  4.86413237e+02,\n",
       "        4.91754476e+02,  4.90725076e+02,  4.92039668e+02,  4.90465674e+02,\n",
       "        4.94567613e+02,  4.94740137e+02,  4.94753699e+02,  4.96435484e+02,\n",
       "        4.96543300e+02,  4.95538220e+02,  4.92945394e+02,  5.01163043e+02,\n",
       "        4.94653703e+02,  4.98404771e+02,  4.99694949e+02,  5.01913157e+02,\n",
       "        5.03975782e+02,  5.03231989e+02,  5.04489068e+02,  5.03725374e+02,\n",
       "        5.03729215e+02,  5.05468602e+02,  5.06901579e+02,  5.04235757e+02,\n",
       "        5.09626566e+02,  5.07133095e+02,  5.11094923e+02,  5.11552513e+02,\n",
       "        5.09472580e+02,  5.04475293e+02,  5.07704923e+02,  5.12184152e+02,\n",
       "        5.11214550e+02,  5.11470457e+02,  5.15303204e+02,  5.13005212e+02,\n",
       "        5.15549639e+02,  5.11605071e+02,  5.15465737e+02,  5.16431576e+02,\n",
       "        5.19185558e+02,  5.17255692e+02,  5.17772315e+02,  5.16449472e+02,\n",
       "        5.17010490e+02,  5.22270662e+02,  5.19217982e+02,  5.18488124e+02,\n",
       "        5.18402579e+02,  5.18553948e+02,  5.21682573e+02,  5.20320404e+02,\n",
       "        5.22813699e+02,  5.24195185e+02,  5.26554597e+02,  5.20725338e+02,\n",
       "        5.26723035e+02,  5.25535123e+02,  5.27505604e+02,  5.27171592e+02,\n",
       "        5.30597624e+02,  5.25520991e+02,  5.31499513e+02,  5.36012412e+02,\n",
       "        5.29692972e+02,  5.31585117e+02,  5.30142796e+02,  5.34846801e+02,\n",
       "        5.29994994e+02,  5.31761634e+02,  5.32354096e+02,  5.34480302e+02,\n",
       "        5.33385195e+02,  5.36431911e+02,  5.34223364e+02,  5.37145038e+02,\n",
       "        5.34484886e+02,  5.34908921e+02,  5.34300706e+02,  5.39097129e+02,\n",
       "        5.37270063e+02,  5.44316671e+02,  5.38110974e+02,  5.40582220e+02,\n",
       "        5.42330216e+02,  5.45047034e+02,  5.42023067e+02,  5.46256770e+02,\n",
       "        5.47406597e+02,  5.47070273e+02,  5.50164275e+02,  5.45228733e+02,\n",
       "        5.51258031e+02,  5.50814499e+02,  5.48268252e+02,  5.52220893e+02,\n",
       "        5.49492000e+02,  5.53726088e+02,  5.52984873e+02,  5.51700318e+02,\n",
       "        5.52638224e+02,  5.52958502e+02,  5.56208005e+02,  5.54862474e+02,\n",
       "        5.56063096e+02,  5.58631506e+02,  5.59414541e+02,  5.57931124e+02,\n",
       "        5.58505630e+02,  5.56976495e+02,  5.58077358e+02,  5.59828676e+02,\n",
       "        5.59717678e+02,  5.61311326e+02,  5.58386097e+02,  5.57804548e+02,\n",
       "        5.58906361e+02,  5.60732521e+02,  5.64646304e+02,  5.67651715e+02,\n",
       "        5.64593906e+02,  5.64828800e+02,  5.65775997e+02,  5.69696746e+02,\n",
       "        5.69591373e+02,  5.68106472e+02,  5.72878975e+02,  5.67252837e+02,\n",
       "        5.68294124e+02,  5.71305969e+02,  5.70209670e+02,  5.71601061e+02,\n",
       "        5.77247726e+02,  5.76164914e+02,  5.75302597e+02,  5.78319055e+02,\n",
       "        5.79653992e+02,  5.81916933e+02,  5.81641910e+02,  5.84721702e+02,\n",
       "        5.79661847e+02,  5.84158286e+02,  5.84392802e+02,  5.85747058e+02,\n",
       "        5.82676522e+02,  5.84861160e+02,  5.86483764e+02,  5.83396407e+02,\n",
       "        5.90197076e+02,  5.88818479e+02,  5.90179339e+02,  5.92762988e+02,\n",
       "        5.92528361e+02,  5.91360565e+02,  5.94232604e+02,  5.91741263e+02,\n",
       "        5.99095465e+02,  5.98214601e+02,  5.94427177e+02,  5.96148753e+02,\n",
       "        5.98532638e+02,  5.97868650e+02,  6.00591192e+02,  6.03154743e+02,\n",
       "        6.01287108e+02,  6.01139932e+02,  5.96664706e+02,  6.02390143e+02,\n",
       "        6.01634804e+02,  6.06522806e+02,  6.06502538e+02,  6.03825419e+02,\n",
       "        6.05221769e+02,  6.09227765e+02,  6.07383749e+02,  6.10093526e+02,\n",
       "        6.11323761e+02,  6.13363453e+02,  6.13740278e+02,  6.13513031e+02,\n",
       "        6.16729930e+02,  6.18764091e+02,  6.16573957e+02,  6.14969127e+02,\n",
       "        6.18561316e+02,  6.15905518e+02,  6.18941992e+02,  6.19761220e+02,\n",
       "        6.16926333e+02,  6.23233447e+02,  6.18838219e+02,  6.23532156e+02,\n",
       "        6.20077793e+02,  6.24918706e+02,  6.22928313e+02,  6.23824677e+02,\n",
       "        6.22063581e+02,  6.25505246e+02,  6.28249179e+02,  6.23038545e+02,\n",
       "        6.29247996e+02,  6.28130704e+02,  6.28698124e+02,  6.29449823e+02,\n",
       "        6.31916194e+02,  6.29325629e+02,  6.31805585e+02,  6.32570577e+02,\n",
       "        6.31272282e+02,  6.34409339e+02,  6.35385837e+02,  6.32728222e+02,\n",
       "        6.33289892e+02,  6.36727802e+02,  6.36639074e+02,  6.34599106e+02,\n",
       "        6.37307634e+02,  6.36421211e+02,  6.38999368e+02,  6.37482350e+02,\n",
       "        6.40841337e+02,  6.43272409e+02,  6.43680556e+02,  6.43295296e+02,\n",
       "        6.40402378e+02,  6.45210420e+02,  6.43816646e+02,  6.48324497e+02,\n",
       "        6.45991663e+02,  6.47791370e+02,  6.51265934e+02,  6.48241714e+02,\n",
       "        6.48165484e+02,  6.47072633e+02,  6.48884566e+02,  6.49509858e+02,\n",
       "        6.54700486e+02,  6.52408637e+02,  6.52450298e+02,  6.54426224e+02,\n",
       "        6.53617299e+02,  6.56020599e+02,  6.59034212e+02,  6.54389213e+02,\n",
       "        6.57280537e+02,  6.60081804e+02,  6.58064507e+02,  6.58004445e+02,\n",
       "        6.59614675e+02,  6.62106788e+02,  6.60217444e+02,  6.60055610e+02,\n",
       "        6.63376410e+02,  6.64133157e+02,  6.65336146e+02,  6.66649997e+02,\n",
       "        6.65318281e+02,  6.65331904e+02,  6.68852275e+02,  6.69772115e+02,\n",
       "        6.69567520e+02,  6.74113837e+02,  6.71238372e+02,  6.76576553e+02,\n",
       "        6.73351151e+02,  6.77490557e+02,  6.72600818e+02,  6.77243649e+02,\n",
       "        6.75747939e+02,  6.78336041e+02,  6.80702312e+02,  6.78293145e+02,\n",
       "        6.78259221e+02,  6.81201858e+02,  6.81920275e+02,  6.82235694e+02,\n",
       "        6.86777040e+02,  6.86416333e+02,  6.81931117e+02,  6.84231706e+02,\n",
       "        6.82201620e+02,  6.88400605e+02,  6.91574162e+02,  6.89828374e+02,\n",
       "        6.91244492e+02,  6.87499724e+02,  6.87382778e+02,  6.89296035e+02,\n",
       "        6.90591007e+02,  6.89484173e+02,  6.89445597e+02,  6.90800957e+02,\n",
       "        6.90878936e+02,  6.96296189e+02,  6.97522901e+02,  7.00986286e+02])"
      ]
     },
     "execution_count": 4,
     "metadata": {},
     "output_type": "execute_result"
    }
   ],
   "source": [
    "import numpy as np\n",
    "x1 = np.random.uniform(0, 100, 1000)   # uniform distribution \n",
    "x2 = np.random.uniform(0, 100, 1000)\n",
    "x1.sort()\n",
    "x2.sort()\n",
    "\n",
    "error = np.random.normal(0, 2, 1000)  # error belongs to gaussian distribution\n",
    "y = x1*3 + x2*4 + error\n",
    "y"
   ]
  },
  {
   "cell_type": "code",
   "execution_count": 27,
   "metadata": {},
   "outputs": [
    {
     "data": {
      "text/plain": [
       "(1000, 2)"
      ]
     },
     "execution_count": 27,
     "metadata": {},
     "output_type": "execute_result"
    }
   ],
   "source": [
    "#x1.reshape(1000,1)\n",
    "x = np.concatenate((x1.reshape(1000,1), x2.reshape(1000,1)), axis=1)\n",
    "x.shape"
   ]
  },
  {
   "cell_type": "code",
   "execution_count": 28,
   "metadata": {},
   "outputs": [
    {
     "name": "stdout",
     "output_type": "stream",
     "text": [
      "[2.95506791 4.04686602]\n"
     ]
    }
   ],
   "source": [
    "from numpy.linalg import inv       # used to get inverse matrix\n",
    "xT = x.T\n",
    "#minW = np.dot(XT * X).I * XT * Y  \n",
    "a = inv(np.dot(xT, x))\n",
    "b = np.dot(a, xT)\n",
    "minW = np.dot(b, y)\n",
    "print(minW)"
   ]
  },
  {
   "cell_type": "code",
   "execution_count": 31,
   "metadata": {},
   "outputs": [
    {
     "name": "stdout",
     "output_type": "stream",
     "text": [
      "[2.86155101 4.13742416]\n"
     ]
    }
   ],
   "source": [
    "from sklearn import linear_model  # linear_model is regarded as a class\n",
    "regr = linear_model.LinearRegression()\n",
    "regr.fit(x, y)\n",
    "print(regr.coef_)"
   ]
  },
  {
   "cell_type": "code",
   "execution_count": 25,
   "metadata": {},
   "outputs": [
    {
     "name": "stdout",
     "output_type": "stream",
     "text": [
      "0.955\n"
     ]
    }
   ],
   "source": [
    "from sklearn.datasets import make_classification\n",
    "from sklearn.model_selection import train_test_split\n",
    "from sklearn.linear_model import LogisticRegression\n",
    "X, Y = make_classification(n_samples=1000, n_features=5, n_classes=2) #binary output\n",
    "x_train, x_test, y_train, y_test = train_test_split(X, Y, test_size=0.2)\n",
    "clf = LogisticRegression().fit(x_train, y_train)\n",
    "\n",
    "y_predict = clf.predict(x_test)\n",
    "count = 0\n",
    "length = y_test.size\n",
    "for y1, y2 in zip(y_predict, y_test):\n",
    "    if y1==y2:\n",
    "        count += 1 \n",
    "accuracy = count / length\n",
    "print(accuracy)"
   ]
  },
  {
   "cell_type": "code",
   "execution_count": 56,
   "metadata": {},
   "outputs": [
    {
     "data": {
      "text/plain": [
       "Text(0,0.5,'feature 1')"
      ]
     },
     "execution_count": 56,
     "metadata": {},
     "output_type": "execute_result"
    },
    {
     "data": {
      "image/png": "[encoded data removed]",
      "text/plain": [
       "<Figure size 432x288 with 1 Axes>"
      ]
     },
     "metadata": {
      "needs_background": "light"
     },
     "output_type": "display_data"
    }
   ],
   "source": [
    "import matplotlib.pyplot as plt\n",
    "#only consider fisrt two features, why is it like this syntax ?????\n",
    "plt.scatter(X[Y==0,0], X[Y==0,1], c='r', label='True')  \n",
    "plt.scatter(X[Y==1,0], X[Y==1,1], c='b', label='False')\n",
    "plt.legend()\n",
    "plt.title('Scatter for fisrt two features')\n",
    "plt.xlabel('feature 0')\n",
    "plt.ylabel('feature 1')\n",
    "\n",
    "#plt.scatter(X[:,1], Y)  #X[all][1]\n"
   ]
  },
  {
   "cell_type": "code",
   "execution_count": 47,
   "metadata": {},
   "outputs": [
    {
     "data": {
      "text/plain": [
       "<matplotlib.collections.PathCollection at 0x7f0832323a58>"
      ]
     },
     "execution_count": 47,
     "metadata": {},
     "output_type": "execute_result"
    },
    {
     "data": {
      "image/png": "[encoded data removed]",
      "text/plain": [
       "<Figure size 432x288 with 1 Axes>"
      ]
     },
     "metadata": {
      "needs_background": "light"
     },
     "output_type": "display_data"
    }
   ],
   "source": [
    "plt.scatter(X[:,0], X[:,1])\n"
   ]
  },
  {
   "cell_type": "code",
   "execution_count": null,
   "metadata": {},
   "outputs": [],
   "source": []
  }
 ],
 "metadata": {
  "kernelspec": {
   "display_name": "Python 3",
   "language": "python",
   "name": "python3"
  },
  "language_info": {
   "codemirror_mode": {
    "name": "ipython",
    "version": 3
   },
   "file_extension": ".py",
   "mimetype": "text/x-python",
   "name": "python",
   "nbconvert_exporter": "python",
   "pygments_lexer": "ipython3",
   "version": "3.7.0"
  }
 },
 "nbformat": 4,
 "nbformat_minor": 2
}
