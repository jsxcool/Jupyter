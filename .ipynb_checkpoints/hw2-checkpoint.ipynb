{
 "cells": [
  {
   "cell_type": "code",
   "execution_count": 51,
   "metadata": {},
   "outputs": [
    {
     "name": "stdout",
     "output_type": "stream",
     "text": [
      "The most frequent key is 'this', its frequency is 4.\n",
      "{'this': 4, 'course': 4, 'is': 1, 'designed': 1, 'for': 2, 'those': 1, 'students': 1, 'have': 1, 'no': 1, 'experience': 2, 'or': 1, 'limited': 1, 'on': 2, 'python': 4, 'will': 1, 'cover': 1, 'the': 1, 'basis': 1, 'syntax': 1, 'rules': 1, 'modules': 1, 'importing': 1, 'packages': 1, 'numpy': 1, 'pandas': 1, 'data': 1, 'visualization': 1, 'and': 2, 'intro': 1, 'machine': 1, 'learning': 1, 'you': 3, 'willneed': 1, 'to': 3, 'implement': 1, 'what': 1, 'learn': 1, 'from': 1, 'do': 1, 'a': 2, 'finance': 1, 'related': 1, 'project': 2, 'aims': 1, 'get': 1, 'familiar': 1, 'with': 2, 'language': 1, 'can': 1, 'finish': 1, 'simple': 1}\n"
     ]
    }
   ],
   "source": [
    "def myFun(s):     # the type of s is string, string is immutable\n",
    "    s2 = s;\n",
    "    length = len(s)\n",
    "    for i in range(0, length):\n",
    "        # ord(): convert letter to its ASCII\n",
    "        if 64<ord(s[i])<91 or 96<ord(s[i])<123 :\n",
    "            continue;\n",
    "        else:\n",
    "            s2 = s2.replace(s[i], ' ')        \n",
    "    s2 = s2.lower()        \n",
    "    ls = s2.split()\n",
    "    \n",
    "    dic = {}\n",
    "    for ele in ls:\n",
    "        if ele in dic:\n",
    "            dic[ele] = dic[ele] + 1\n",
    "        else:\n",
    "            dic[ele] = 1\n",
    "    \n",
    "    frequency = 0\n",
    "    word = \"\"\n",
    "    for key in dic :\n",
    "        if dic[key] > frequency :\n",
    "            frequency = dic[key]\n",
    "            word = key\n",
    "    print(\"The most frequent key is '%s', its frequency is %d.\" %(word, frequency))\n",
    "        \n",
    "    return dic;\n",
    "\n",
    "\n",
    "s = '''This course is designed for those students have no experience or limited experience on Python. \\\n",
    "       This course will cover the basis syntax rules, modules, importing packages (Numpy, pandas), data \\\n",
    "       visualization, and Intro for machine learning on Python. You willneed to implement what you learn \\\n",
    "       from this course to do a finance related project. This course aims to get you familiar with Python \\\n",
    "       language, and can finish a simple project with Python.'''\n",
    "ret = myFun(s)\n",
    "print(ret)\n",
    "    "
   ]
  },
  {
   "cell_type": "code",
   "execution_count": 51,
   "metadata": {},
   "outputs": [
    {
     "name": "stdout",
     "output_type": "stream",
     "text": [
      "1.7500000000000009\n"
     ]
    }
   ],
   "source": [
    "import math\n",
    "def ODE(x):\n",
    "    return x+4-math.exp(x)\n",
    "def solveODE(x0):   # return an equilibrium point\n",
    "    step = 0.05\n",
    "    count = 0\n",
    "    if abs(ODE(x0)) < 0.1:  # threshold is 0.1\n",
    "        return x0\n",
    "    while ODE(x0) > 0 :\n",
    "        if count > 5000 : \n",
    "            return 'can not find an equilibrium point near x0'\n",
    "        x0 += step\n",
    "        count += 1\n",
    "        if(abs(ODE(x0))) < 0.1 :\n",
    "            return x0\n",
    "    while ODE(x0) < 0 :\n",
    "        if count > 5000 : \n",
    "            return 'can not find an equilibrium point near x0'\n",
    "        x0 -= step\n",
    "        count += 1\n",
    "        if(abs(ODE(x0))) < 0.1 :\n",
    "            return x0\n",
    "\n",
    "print(solveODE(0))\n"
   ]
  },
  {
   "cell_type": "code",
   "execution_count": 46,
   "metadata": {},
   "outputs": [
    {
     "name": "stdout",
     "output_type": "stream",
     "text": [
      "stable point\n",
      "3.1416015625\n"
     ]
    }
   ],
   "source": [
    "import math\n",
    "import numpy as np\n",
    "def ODE2(x):\n",
    "    return math.sin(x) * math.exp(x)\n",
    "\n",
    "def bisection(left, right):\n",
    "    if np.sign(ODE2(left)) == np.sign(ODE2(right)) :\n",
    "        return 'no solution in this interval'\n",
    "    if ODE2(left) > ODE(right) :\n",
    "        print('stable point')\n",
    "    else:\n",
    "        print('unstable point')\n",
    "    mid = (left + right) / 2\n",
    "    while abs(ODE2(mid)) > 0.01:   # threshold is 0.01\n",
    "        if np.sign(ODE2(mid)) == np.sign(ODE2(left)) : \n",
    "            left = mid\n",
    "            mid = (left + right) / 2\n",
    "        else:\n",
    "            right = mid\n",
    "            mid = (left + right) / 2\n",
    "    return mid;\n",
    "\n",
    "\n",
    "print(bisection(2, 4))"
   ]
  },
  {
   "cell_type": "code",
   "execution_count": 25,
   "metadata": {},
   "outputs": [
    {
     "name": "stdout",
     "output_type": "stream",
     "text": [
      "{-2.799999999999999: 'unstable', -1.0999999999999974: 'stable', 1.1000000000000025: 'unstable', 2.800000000000004: 'stable'}\n"
     ]
    }
   ],
   "source": [
    "import math\n",
    "import numpy as np\n",
    "def ODE3(x):\n",
    "    return x * math.sin(x) - 1\n",
    "def findAllSolution(left, right):\n",
    "    dic = {}\n",
    "    step = 0.1\n",
    "    x = left\n",
    "    while x < right :\n",
    "        if abs(ODE3(x)) < 0.1:   # threshold is 0.1\n",
    "            if ODE3(x) < ODE3(x-step) :\n",
    "                value = 'stable'\n",
    "            else :\n",
    "                value = 'unstable'\n",
    "            dic[x] = value\n",
    "        x += step \n",
    "    return dic\n",
    "\n",
    "print(findAllSolution(-4, 4))"
   ]
  },
  {
   "cell_type": "code",
   "execution_count": 32,
   "metadata": {},
   "outputs": [
    {
     "name": "stdout",
     "output_type": "stream",
     "text": [
      "200\n",
      "60\n",
      "100\n",
      "40\n"
     ]
    }
   ],
   "source": [
    "class Rectangular: \n",
    "    def __init__(self, leng, wid) :\n",
    "        self.length = leng\n",
    "        self.width = wid\n",
    "    \n",
    "    def area(self):\n",
    "        return self.length * self.width\n",
    "    \n",
    "    def perimeter(self):\n",
    "        return 2 * (self.length + self.width)\n",
    "\n",
    "class Square(Rectangular):\n",
    "    def __init__(self, leng):\n",
    "        self.length = leng\n",
    "        self.width = leng \n",
    "    \n",
    "myRec = Rectangular(10, 20)\n",
    "print(myRec.area())\n",
    "print(myRec.perimeter())\n",
    "mySqu = Square(10)\n",
    "print(mySqu.area())\n",
    "print(mySqu.perimeter())\n"
   ]
  },
  {
   "cell_type": "code",
   "execution_count": null,
   "metadata": {},
   "outputs": [],
   "source": []
  }
 ],
 "metadata": {
  "kernelspec": {
   "display_name": "Python 3",
   "language": "python",
   "name": "python3"
  },
  "language_info": {
   "codemirror_mode": {
    "name": "ipython",
    "version": 3
   },
   "file_extension": ".py",
   "mimetype": "text/x-python",
   "name": "python",
   "nbconvert_exporter": "python",
   "pygments_lexer": "ipython3",
   "version": "3.7.0"
  }
 },
 "nbformat": 4,
 "nbformat_minor": 2
}
