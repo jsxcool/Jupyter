{
 "cells": [
  {
   "cell_type": "code",
   "execution_count": 136,
   "metadata": {},
   "outputs": [
    {
     "name": "stdout",
     "output_type": "stream",
     "text": [
      "[[0. 0. 0. 0.]\n",
      " [0. 0. 0. 0.]\n",
      " [0. 0. 0. 0.]]\n",
      "0.77\n",
      "[[-7.98364977 -8.06523183 -2.65272339 -0.60951085 -6.90081474 -3.77323469\n",
      "  -7.72320128]\n",
      " [ 1.59914534 -6.24591527  1.35743456 -5.19029615  7.70538836  6.82891053\n",
      "  -5.19499945]\n",
      " [-2.37733154  0.89982904 -1.26865125  4.85236903 -2.2427644   5.35743468\n",
      "  -5.42413251]\n",
      " [ 2.1443758  -9.11872923  0.06743686  6.29679965 -8.72964769 -3.6722409\n",
      "   0.91170478]\n",
      " [ 0.32404697 -2.49619551  2.52714433  6.94430411 -0.88467669  4.93312428\n",
      "   3.85368969]\n",
      " [ 2.99905702 -7.40723616 -6.09329935  4.60763635 -7.28103313  8.52911917\n",
      "  -9.25629342]\n",
      " [-0.81998326 -7.64530227 -5.36723878  8.20375845  0.14512949 -9.57221588\n",
      "   0.22414849]]\n",
      "[[ -8.  -9.  -3.  -1.  -7.  -4.  -8.]\n",
      " [  2.  -7.   2.  -6.   8.   7.  -6.]\n",
      " [ -3.   1.  -2.   5.  -3.   6.  -6.]\n",
      " [  3. -10.   1.   7.  -9.  -4.   1.]\n",
      " [  1.  -3.   3.   7.  -1.   5.   4.]\n",
      " [  3.  -8.  -7.   5.  -8.   9. -10.]\n",
      " [ -1.  -8.  -6.   9.   1. -10.   1.]]\n",
      "1.0195714204786472\n",
      "2.036951191017878\n",
      "0.00866963299046145\n",
      "3.385410064831894\n",
      "[70 13  7 37  2 78 64 12 63 13 12 86 67 72 16  4 54 39 29  1 92 14 42 93\n",
      " 55 47 23  4 21 55 58 62 24 66 70 15 44 22 85 64 17  2 21 14 31 13 35 17\n",
      " 76 88 78 90 63 18 67 93 53 49 16 91  3 78 49 83 37 56 25 51 30 93 15 90\n",
      " 41 40 81 41  0 22 77 49 98 47 46 87 71 42 30 23 66 96 70 60 37 13 68 84\n",
      " 42 36 89 12]\n",
      "98 0\n",
      "2.089999999999999 -2.1099999999999977\n"
     ]
    }
   ],
   "source": [
    "import numpy as np\n",
    "import math\n",
    "arr1 = np.zeros((3, 4), dtype = np.float64)\n",
    "print(arr1)\n",
    "\n",
    "\n",
    "data = np.random.randn(100)\n",
    "#print(data)\n",
    "count = 0.\n",
    "for i in range(0, 100) :\n",
    "    if data[i] < 0.4 :\n",
    "        count += 1\n",
    "ratio = count / 100.0\n",
    "print(ratio)\n",
    "\n",
    "\n",
    "data2 = np.random.uniform(-10, 10, (7,7))\n",
    "print(data2)\n",
    "for i in range(0, 7):\n",
    "    for j in range(0, 7):\n",
    "        if data2[i][j] == int(data2[i][j]):\n",
    "            continue;\n",
    "        if data2[i][j] < 0:\n",
    "            data2[i][j] = int(data2[i][j])-1\n",
    "        else:\n",
    "            data2[i][j] = int(data2[i][j])+1\n",
    "print(data2)\n",
    "\n",
    "\n",
    "# standard distribution N(1, 2)  mean-variance\n",
    "data3 = math.sqrt(2)*np.random.randn(1000) + 1\n",
    "#print(data3)\n",
    "sum = 0.0\n",
    "for i in range(0, 1000): \n",
    "    sum += data3[i]\n",
    "mean = sum/1000\n",
    "print(mean)\n",
    "\n",
    "variance = 0.0\n",
    "for i in range(0, 1000): \n",
    "    variance += (data3[i] - mean)**2\n",
    "variance /= 1000\n",
    "print(variance)\n",
    "sd = math.sqrt(variance)   # standard derivation\n",
    "\n",
    "skewness = 0.0\n",
    "for i in range(0, 1000): \n",
    "    skewness += ((data3[i]-mean)/sd)**3\n",
    "skewness /= 1000\n",
    "print(skewness)\n",
    "\n",
    "kurtosis = 0.0\n",
    "for i in range(0, 1000): \n",
    "    kurtosis += ((data3[i]-mean)/sd)**4\n",
    "kurtosis /= 1000\n",
    "print(kurtosis)\n",
    "\n",
    "\n",
    "data4 = np.random.randint(100, size=100)\n",
    "print(data4)\n",
    "max = min = data4[0]\n",
    "for i in range(1,100):\n",
    "    if data4[i] > max:\n",
    "        max = data4[i]\n",
    "    if data4[i] < min:\n",
    "        min = data4[i]\n",
    "print(max, min)\n",
    "\n",
    "\n",
    "\n",
    "x = np.array([0, 1, 2, 3])\n",
    "y = np.array([-2.4, 0.5, 1.9, 4.1])\n",
    "# y = mx + c = A * x\n",
    "A = np.vstack([x, np.ones(len(x))]).T\n",
    "m, c = np.linalg.lstsq(A, y, rcond=-1)[0]\n",
    "print(m, c)\n"
   ]
  },
  {
   "cell_type": "code",
   "execution_count": 148,
   "metadata": {},
   "outputs": [
    {
     "name": "stdout",
     "output_type": "stream",
     "text": [
      "0.10204081632653063\n",
      "[0.42857142857142855, 0.9154518950437318, 0.3802582257392752, 0.07443327185101443, 0.8996761553434368]\n"
     ]
    },
    {
     "data": {
      "text/plain": [
       "0.2857142857142857"
      ]
     },
     "execution_count": 148,
     "metadata": {},
     "output_type": "execute_result"
    }
   ],
   "source": [
    "class LCG:\n",
    "    #                   x0      a           c          M    (int)\n",
    "    def __init__(self, seed, multiplier, increment, modulus):\n",
    "        self.seed = seed \n",
    "        self.multiplier = multiplier \n",
    "        self.increment = increment \n",
    "        self.modulus = modulus \n",
    "    \n",
    "    def getSeed(self):\n",
    "        return self.seed\n",
    "    def setSeed(self, val):\n",
    "        self.seed = val\n",
    "    \n",
    "    x = 0\n",
    "    def start(self):    # initialize generator\n",
    "        global x \n",
    "        x = self.seed/self.modulus\n",
    "        return x\n",
    "    \n",
    "    def nextRandom(self):\n",
    "        global x\n",
    "        x = (self.multiplier*x+self.increment)%self.modulus/self.modulus\n",
    "        return x\n",
    "    \n",
    "    def listRandom(self, length):\n",
    "        ls = [self.seed/self.modulus]\n",
    "        for i in range(0, length-1):\n",
    "            ls.append(self.nextRandom())\n",
    "        return ls\n",
    "\n",
    "    \n",
    "class SCG(LCG):\n",
    "    def __init__(self, seed, multiplier, increment, modulus):\n",
    "        if seed%4 != 2:\n",
    "            raise ValueError(\"seed % 4 != 2\")\n",
    "        self.seed = seed \n",
    "        self.multiplier = multiplier \n",
    "        self.increment = increment \n",
    "        self.modulus = modulus \n",
    "\n",
    "    def __iter__(self):\n",
    "        yield self.seed/self.modulus\n",
    "        for i in range(0, self.modulus):   # iterate modulus times\n",
    "            yield self.nextRandom()\n",
    "        \n",
    "    \n",
    "l = LCG(1,4,6,7)\n",
    "l.setSeed(3)\n",
    "l.start()\n",
    "print(l.nextRandom())\n",
    "print(l.listRandom(5))\n",
    "\n",
    "s = SCG(2,4,6,7)\n",
    "a = iter(s)\n",
    "next(a)"
   ]
  },
  {
   "cell_type": "code",
   "execution_count": 143,
   "metadata": {},
   "outputs": [
    {
     "data": {
      "text/plain": [
       "2.23606797749979"
      ]
     },
     "execution_count": 143,
     "metadata": {},
     "output_type": "execute_result"
    }
   ],
   "source": [
    "import math\n",
    "class Point:\n",
    "    def __init__(self, x, y):\n",
    "        self.x = x\n",
    "        self.y = y\n",
    "        \n",
    "    def distance(self):\n",
    "        return math.sqrt(self.x**2 + self.y**2)\n",
    "\n",
    "p = Point(1.0,2.0)\n",
    "p.distance()"
   ]
  },
  {
   "cell_type": "code",
   "execution_count": 152,
   "metadata": {},
   "outputs": [
    {
     "ename": "KeyboardInterrupt",
     "evalue": "",
     "output_type": "error",
     "traceback": [
      "\u001b[0;31m---------------------------------------------------------------------------\u001b[0m",
      "\u001b[0;31mKeyboardInterrupt\u001b[0m                         Traceback (most recent call last)",
      "\u001b[0;32m<ipython-input-152-1cc417be98d3>\u001b[0m in \u001b[0;36m<module>\u001b[0;34m()\u001b[0m\n\u001b[1;32m     11\u001b[0m \u001b[0mright\u001b[0m \u001b[0;34m=\u001b[0m \u001b[0mlength\u001b[0m \u001b[0;34m-\u001b[0m \u001b[0;36m1\u001b[0m\u001b[0;34m\u001b[0m\u001b[0m\n\u001b[1;32m     12\u001b[0m \u001b[0;32mwhile\u001b[0m \u001b[0mleft\u001b[0m \u001b[0;34m<\u001b[0m \u001b[0mright\u001b[0m \u001b[0;34m:\u001b[0m\u001b[0;34m\u001b[0m\u001b[0m\n\u001b[0;32m---> 13\u001b[0;31m     \u001b[0mlsPoint\u001b[0m\u001b[0;34m.\u001b[0m\u001b[0mappend\u001b[0m\u001b[0;34m(\u001b[0m\u001b[0mPoint\u001b[0m\u001b[0;34m(\u001b[0m\u001b[0mls\u001b[0m\u001b[0;34m[\u001b[0m\u001b[0mleft\u001b[0m\u001b[0;34m]\u001b[0m\u001b[0;34m,\u001b[0m \u001b[0mls\u001b[0m\u001b[0;34m[\u001b[0m\u001b[0mright\u001b[0m\u001b[0;34m]\u001b[0m\u001b[0;34m)\u001b[0m\u001b[0;34m)\u001b[0m\u001b[0;34m\u001b[0m\u001b[0m\n\u001b[0m",
      "\u001b[0;32m<ipython-input-143-36146e1f23ab>\u001b[0m in \u001b[0;36m__init__\u001b[0;34m(self, x, y)\u001b[0m\n\u001b[1;32m      1\u001b[0m \u001b[0;32mimport\u001b[0m \u001b[0mmath\u001b[0m\u001b[0;34m\u001b[0m\u001b[0m\n\u001b[1;32m      2\u001b[0m \u001b[0;32mclass\u001b[0m \u001b[0mPoint\u001b[0m\u001b[0;34m:\u001b[0m\u001b[0;34m\u001b[0m\u001b[0m\n\u001b[0;32m----> 3\u001b[0;31m     \u001b[0;32mdef\u001b[0m \u001b[0m__init__\u001b[0m\u001b[0;34m(\u001b[0m\u001b[0mself\u001b[0m\u001b[0;34m,\u001b[0m \u001b[0mx\u001b[0m\u001b[0;34m,\u001b[0m \u001b[0my\u001b[0m\u001b[0;34m)\u001b[0m\u001b[0;34m:\u001b[0m\u001b[0;34m\u001b[0m\u001b[0m\n\u001b[0m\u001b[1;32m      4\u001b[0m         \u001b[0mself\u001b[0m\u001b[0;34m.\u001b[0m\u001b[0mx\u001b[0m \u001b[0;34m=\u001b[0m \u001b[0mx\u001b[0m\u001b[0;34m\u001b[0m\u001b[0m\n\u001b[1;32m      5\u001b[0m         \u001b[0mself\u001b[0m\u001b[0;34m.\u001b[0m\u001b[0my\u001b[0m \u001b[0;34m=\u001b[0m \u001b[0my\u001b[0m\u001b[0;34m\u001b[0m\u001b[0m\n",
      "\u001b[0;31mKeyboardInterrupt\u001b[0m: "
     ]
    }
   ],
   "source": [
    "gen = LCG(1,4,88,2000)     # -1000\n",
    "ls = gen.listRandom(2000)\n",
    "length = len(ls)\n",
    "for i in range(500, 1250):\n",
    "    ls[i] = -ls[i]\n",
    "for i in range(1500, 1750):\n",
    "    ls[i] = -ls[i]\n",
    "    \n",
    "lsPoint = []\n",
    "left = 0\n",
    "right = length - 1\n",
    "while left < right : \n",
    "    lsPoint.append(Point(ls[left], ls[right]))\n",
    "                                                                                                                                                                                                                                                                                                                                                                                                                                                                                                                        \n"
   ]
  },
  {
   "cell_type": "code",
   "execution_count": null,
   "metadata": {},
   "outputs": [],
   "source": []
  }
 ],
 "metadata": {
  "kernelspec": {
   "display_name": "Python 3",
   "language": "python",
   "name": "python3"
  },
  "language_info": {
   "codemirror_mode": {
    "name": "ipython",
    "version": 3
   },
   "file_extension": ".py",
   "mimetype": "text/x-python",
   "name": "python",
   "nbconvert_exporter": "python",
   "pygments_lexer": "ipython3",
   "version": "3.7.0"
  }
 },
 "nbformat": 4,
 "nbformat_minor": 2
}
