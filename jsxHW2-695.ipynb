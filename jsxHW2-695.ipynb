{
 "cells": [
  {
   "cell_type": "code",
   "execution_count": 95,
   "metadata": {},
   "outputs": [
    {
     "name": "stdout",
     "output_type": "stream",
     "text": [
      "< Sunny, Warm, ?, Strong, ?, ? >\n"
     ]
    }
   ],
   "source": [
    "class EnjoySport:\n",
    "    # o : accept nothing\n",
    "    # ? : accept everything\n",
    "    def __init__(self, isTrue, sky = 'o', airTemp = 'o', humidity = 'o', wind = 'o',\n",
    "                 water = 'o', forecast = 'o'):\n",
    "        self.isTrue = isTrue;\n",
    "        self.sky = sky            # Sunny, Cloudy, Rainy\n",
    "        self.airTemp = airTemp    # Warm, Cold\n",
    "        self.humidity = humidity  # Normal, High\n",
    "        self.wind = wind          # Strong, Weak\n",
    "        self.water = water        # Warm, Cold\n",
    "        self.forecast = forecast  # Same, Change\n",
    "    def __repr__(self):   # overwrite print()\n",
    "        return '< %s, %s, %s, %s, %s, %s >'%(self.sky, self.airTemp, \n",
    "              self.humidity, self.wind, self.water, self.forecast)\n",
    "    def __eq__(self, other):  # overwrite '=='\n",
    "        return (self.isTrue == other.isTrue and self.sky == other.sky and \n",
    "        self.airTemp == other.airTemp and self.humidity == other.humidity and\n",
    "        self.wind == other.wind and self.water == other.water and\n",
    "        self.forecast == other.forecast)  \n",
    "\n",
    "def find_S(x):   # x []\n",
    "    length = len(x)\n",
    "    h = EnjoySport(1)\n",
    "    for i in range(0, length):\n",
    "        if x[i].isTrue == 1: \n",
    "            h = x[i]\n",
    "            count = i\n",
    "            break\n",
    "    for j in range(count+1, length):\n",
    "        if x[j].isTrue == 0:\n",
    "            continue;\n",
    "        if h.sky != x[j].sky:\n",
    "            h.sky = '?'\n",
    "        if h.airTemp != x[j].airTemp:\n",
    "            h.airTemp = '?'\n",
    "        if h.humidity != x[j].humidity:\n",
    "            h.humidity = '?'\n",
    "        if h.wind != x[j].wind:\n",
    "            h.wind = '?'\n",
    "        if h.water != x[j].water:\n",
    "            h.water = '?'\n",
    "        if h.forecast != x[j].forecast:\n",
    "            h.forecast = '?'\n",
    "    return h;\n",
    "    \n",
    "    \n",
    "x1 = EnjoySport(1, 'Sunny', 'Warm', 'Normal', 'Strong', 'Warm', 'Same')\n",
    "x2 = EnjoySport(1, 'Sunny', 'Warm', 'High', 'Strong', 'Warm', 'Same')\n",
    "x3 = EnjoySport(0, 'Rainy', 'Cold', 'High', 'Strong', 'Warm', 'Change')\n",
    "x4 = EnjoySport(1, 'Sunny', 'Warm', 'High', 'Strong', 'Cool', 'Change')\n",
    "x = [x1, x2, x3, x4]\n",
    "print(find_S(x))\n"
   ]
  },
  {
   "cell_type": "code",
   "execution_count": 97,
   "metadata": {},
   "outputs": [
    {
     "name": "stdout",
     "output_type": "stream",
     "text": [
      "6\n",
      "< Sunny, Warm, ?, ?, ?, ? >\n"
     ]
    }
   ],
   "source": [
    "import random as rd\n",
    "\n",
    "def find_S2(x, target):   # x []\n",
    "    length = len(x)\n",
    "    h = EnjoySport(1)\n",
    "    for i in range(0, length):\n",
    "        if x[i].isTrue == 1: \n",
    "            h = x[i]\n",
    "            count = i\n",
    "            break\n",
    "    for j in range(count+1, length):\n",
    "        if x[j].isTrue == 0:\n",
    "            continue;\n",
    "        if h.sky != x[j].sky:\n",
    "            h.sky = '?'\n",
    "        if h.airTemp != x[j].airTemp:\n",
    "            h.airTemp = '?'\n",
    "        if h.humidity != x[j].humidity:\n",
    "            h.humidity = '?'\n",
    "        if h.wind != x[j].wind:\n",
    "            h.wind = '?'\n",
    "        if h.water != x[j].water:\n",
    "            h.water = '?'\n",
    "        if h.forecast != x[j].forecast:\n",
    "            h.forecast = '?'\n",
    "        if h == target:  # if equaling target, done\n",
    "            print(j+1)\n",
    "            return h\n",
    "    print(length)\n",
    "    return h;\n",
    "\n",
    "def generateData(num):    # generate num random instances\n",
    "    x = []\n",
    "    for i in range(0, num):    \n",
    "        TF = rd.randint(0, 1)\n",
    "        if rd.randint(0, 1) == 0 :\n",
    "            hum = 'Normal'\n",
    "        else:\n",
    "            hum = 'High'\n",
    "        if rd.randint(0, 1) == 0 :\n",
    "            wind = 'Strong'\n",
    "        else:\n",
    "            wind = 'weak'\n",
    "        if rd.randint(0, 1) == 0 :\n",
    "            water = 'Warm'\n",
    "        else:\n",
    "            water = 'Cold'\n",
    "        if rd.randint(0, 1) == 0 :\n",
    "            fore = 'Same'\n",
    "        else:\n",
    "            fore = 'Change'\n",
    "        model = EnjoySport(TF, 'Sunny', 'Warm', hum, wind, water, fore)\n",
    "        x.append(model)\n",
    "    return x\n",
    "\n",
    "x = generateData(200)\n",
    "target = EnjoySport(1, 'Sunny', 'Warm', '?', '?', '?', '?')\n",
    "print(find_S2(x, target))\n"
   ]
  },
  {
   "cell_type": "markdown",
   "metadata": {},
   "source": [
    "## Example required: 4, 11, 7, 13, 14, 8, 6, 13, 4, 10, 6, 6, 7, 9, 6, 7, 20, 21, 5, 11                    \n",
    "## mean = sum/20 = 9.4"
   ]
  }
 ],
 "metadata": {
  "kernelspec": {
   "display_name": "Python 3",
   "language": "python",
   "name": "python3"
  },
  "language_info": {
   "codemirror_mode": {
    "name": "ipython",
    "version": 3
   },
   "file_extension": ".py",
   "mimetype": "text/x-python",
   "name": "python",
   "nbconvert_exporter": "python",
   "pygments_lexer": "ipython3",
   "version": "3.7.0"
  }
 },
 "nbformat": 4,
 "nbformat_minor": 2
}
