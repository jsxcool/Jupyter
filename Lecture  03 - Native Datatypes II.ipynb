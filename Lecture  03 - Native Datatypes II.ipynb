{
 "cells": [
  {
   "cell_type": "markdown",
   "metadata": {},
   "source": [
    "## 1. Define functions\n",
    "* Using keyword 'def' to define a function , the format looks like this:\n"
   ]
  },
  {
   "cell_type": "code",
   "execution_count": 2,
   "metadata": {},
   "outputs": [
    {
     "name": "stdout",
     "output_type": "stream",
     "text": [
      "1\n",
      "50\n",
      "1\n",
      "6\n"
     ]
    }
   ],
   "source": [
    "# parameter can be either with default value or not\n",
    "def myFunctionName(arg1, arg2=5, arg3 = 10):\n",
    "    print(arg1)\n",
    "    return arg2*arg3    \n",
    "\n",
    "print(myFunctionName(1))\n",
    "print(myFunctionName(1,2,3))"
   ]
  },
  {
   "cell_type": "code",
   "execution_count": 6,
   "metadata": {},
   "outputs": [
    {
     "data": {
      "text/plain": [
       "45"
      ]
     },
     "execution_count": 6,
     "metadata": {},
     "output_type": "execute_result"
    }
   ],
   "source": [
    "# Example1\n",
    "def PowOfList(ls, n=1):\n",
    "    s = 0\n",
    "    for ele in ls:\n",
    "        s += ele**n\n",
    "    return s\n",
    "\n",
    "PowOfList(range(10), 0)"
   ]
  },
  {
   "cell_type": "code",
   "execution_count": 7,
   "metadata": {},
   "outputs": [
    {
     "name": "stdout",
     "output_type": "stream",
     "text": [
      "range(0, 5)\n",
      "range(4, -1, -1) 5\n"
     ]
    }
   ],
   "source": [
    "# Example2\n",
    "def reverseList(ls):\n",
    "    return ls[::-1], len(ls)\n",
    "test_list = range(5)\n",
    "print(test_list)\n",
    "new_list, n = reverseList(test_list)\n",
    "print(new_list,n)"
   ]
  },
  {
   "cell_type": "markdown",
   "metadata": {},
   "source": [
    "Everything after __return__ statement will be ignored once function is returned."
   ]
  },
  {
   "cell_type": "markdown",
   "metadata": {},
   "source": [
    "### 1.1 About the argument & parameter\n",
    "* Parameters are such varibles that works like placeholders in the defination of function.\n",
    "* Arguments are such varibles that are passed into a function when calling this function."
   ]
  },
  {
   "cell_type": "code",
   "execution_count": 10,
   "metadata": {},
   "outputs": [],
   "source": [
    "# Defination\n",
    "def fun1(a1, a2, a3, a4 = 10):\n",
    "    print(a1)\n",
    "    print(a2)\n",
    "    print(a3)\n",
    "    print(a4)"
   ]
  },
  {
   "cell_type": "code",
   "execution_count": 11,
   "metadata": {},
   "outputs": [
    {
     "name": "stdout",
     "output_type": "stream",
     "text": [
      "1\n",
      "2\n",
      "3\n",
      "4\n"
     ]
    }
   ],
   "source": [
    "# Calling\n",
    "fun1(1, 2, 3, 4)"
   ]
  },
  {
   "cell_type": "markdown",
   "metadata": {},
   "source": [
    "* There are two types of parameters: ones with default value and one without default value. \n",
    "* Rule for parameter: non-default-value parameters must be before parameters with default value.\n",
    "* There are also two types of arguments: non-keyword argument and keyword argument.\n",
    "* Rule for argument: non-keyword argument must be before keyword argument."
   ]
  },
  {
   "cell_type": "code",
   "execution_count": 12,
   "metadata": {},
   "outputs": [
    {
     "name": "stdout",
     "output_type": "stream",
     "text": [
      "1\n",
      "2\n",
      "3\n",
      "10\n",
      "10\n",
      "20\n",
      "10\n",
      "40\n"
     ]
    }
   ],
   "source": [
    "fun1(1,2,3) # You don't have to pass values to parameter with default value. \n",
    "fun1(10, a2 = 20, a3 = 10, a4 = 40) # the second argument is the one with keyword."
   ]
  },
  {
   "cell_type": "markdown",
   "metadata": {},
   "source": [
    "* The Sequence of keyword argument does not matter, but it matters for non-keyword argument."
   ]
  },
  {
   "cell_type": "code",
   "execution_count": null,
   "metadata": {},
   "outputs": [],
   "source": [
    "fun1(10, a4 = 20, a2 = 10, a3 = 40) # Sequence of Keyword argument can be arbitrary."
   ]
  },
  {
   "cell_type": "markdown",
   "metadata": {},
   "source": [
    "#### 1.1.2. \\* & \\*\\* + parameter"
   ]
  },
  {
   "cell_type": "code",
   "execution_count": 13,
   "metadata": {},
   "outputs": [
    {
     "name": "stdout",
     "output_type": "stream",
     "text": [
      "1 2 3 4 5\n"
     ]
    }
   ],
   "source": [
    "# Question: why can print() function take arbitrary number of arguments.\n",
    "print(1,2,3,4,5)\n"
   ]
  },
  {
   "cell_type": "markdown",
   "metadata": {},
   "source": [
    "* Adding an asterisk mark (\\*) before a parameter  in function defination indicates this parameter will accumulate all additional __non-keyword arguments__ in a tuple.\n",
    "* Adding double asterisks(\\*\\*) before a parameter in function defination indicates this parameter will accumulate all additional __keyword arguments__ in a dictionary."
   ]
  },
  {
   "cell_type": "code",
   "execution_count": 72,
   "metadata": {},
   "outputs": [],
   "source": [
    "#one-dimentional pointer\n",
    "def fun(*arg):\n",
    "    print(arg)"
   ]
  },
  {
   "cell_type": "code",
   "execution_count": 73,
   "metadata": {},
   "outputs": [
    {
     "name": "stdout",
     "output_type": "stream",
     "text": [
      "(1, 2, 3, 4, 5, 6)\n"
     ]
    }
   ],
   "source": [
    "fun(1,2,3,4,5,6)"
   ]
  },
  {
   "cell_type": "code",
   "execution_count": 14,
   "metadata": {},
   "outputs": [],
   "source": [
    "# two-dimentional pointer\n",
    "def fun(**arg):\n",
    "    print(arg)"
   ]
  },
  {
   "cell_type": "code",
   "execution_count": 16,
   "metadata": {},
   "outputs": [
    {
     "name": "stdout",
     "output_type": "stream",
     "text": [
      "{'myArg1': [10, 11], 'myArg2': 20}\n"
     ]
    }
   ],
   "source": [
    "fun(myArg1 = [10, 11], myArg2 = 20)"
   ]
  },
  {
   "cell_type": "code",
   "execution_count": 17,
   "metadata": {},
   "outputs": [
    {
     "name": "stdout",
     "output_type": "stream",
     "text": [
      "1\n",
      "2\n",
      "(3, 4, 5, 6)\n",
      "{'whatever1': 7, 'whatever2': 8}\n"
     ]
    }
   ],
   "source": [
    "#ambiguity about a2\n",
    "def fun(a1, a2=10, *args ,**kwargs):\n",
    "    print(a1)\n",
    "    print(a2)\n",
    "    print(args)\n",
    "    print(kwargs)\n",
    "fun(1,2,3,4,5,6, whatever1=7,whatever2=8)"
   ]
  },
  {
   "cell_type": "code",
   "execution_count": 18,
   "metadata": {},
   "outputs": [
    {
     "name": "stdout",
     "output_type": "stream",
     "text": [
      "11\n",
      "12\n",
      "(13, 14, 15, 16)\n",
      "{'whatever1': 17, 'whatever2': 18}\n"
     ]
    }
   ],
   "source": [
    "fun(11,12,13,14,15,16,whatever1=17,whatever2=18)"
   ]
  },
  {
   "cell_type": "code",
   "execution_count": 21,
   "metadata": {},
   "outputs": [
    {
     "name": "stdout",
     "output_type": "stream",
     "text": [
      "11\n",
      "12\n",
      "([13, 14, 15, 16], {'whatever1': 17, 'whatever2': 18})\n",
      "{}\n"
     ]
    }
   ],
   "source": [
    "ls = [13,14,15,16]\n",
    "kw = {'whatever1':17, 'whatever2':18}\n",
    "fun(11,12,*ls, **kw)  # match\n",
    "fun(11,12,ls, kw)     # ls, kw 都被当作 *arg,   **kwargs为空"
   ]
  },
  {
   "cell_type": "markdown",
   "metadata": {},
   "source": [
    "### 1.2. Yield, iterators and generators."
   ]
  },
  {
   "cell_type": "markdown",
   "metadata": {},
   "source": [
    "#### Keyword: yield, will yield (not return) a value for each time when iterator goes through it, until a StopIteration raised."
   ]
  },
  {
   "cell_type": "code",
   "execution_count": null,
   "metadata": {},
   "outputs": [],
   "source": [
    "for i in [1,2,3]:\n",
    "    print(i)"
   ]
  },
  {
   "cell_type": "code",
   "execution_count": 36,
   "metadata": {},
   "outputs": [
    {
     "name": "stdout",
     "output_type": "stream",
     "text": [
      "<list_iterator object at 0x10e1cb780>\n"
     ]
    }
   ],
   "source": [
    "a = iter([1,2,3])   # get the base address of the iterator\n",
    "print(a)"
   ]
  },
  {
   "cell_type": "code",
   "execution_count": 26,
   "metadata": {},
   "outputs": [
    {
     "ename": "StopIteration",
     "evalue": "",
     "output_type": "error",
     "traceback": [
      "\u001b[0;31m---------------------------------------------------------------------------\u001b[0m",
      "\u001b[0;31mStopIteration\u001b[0m                             Traceback (most recent call last)",
      "\u001b[0;32m<ipython-input-26-15841f3f11d4>\u001b[0m in \u001b[0;36m<module>\u001b[0;34m()\u001b[0m\n\u001b[0;32m----> 1\u001b[0;31m \u001b[0mnext\u001b[0m\u001b[0;34m(\u001b[0m\u001b[0ma\u001b[0m\u001b[0;34m)\u001b[0m\u001b[0;34m\u001b[0m\u001b[0m\n\u001b[0m",
      "\u001b[0;31mStopIteration\u001b[0m: "
     ]
    }
   ],
   "source": [
    "next(a)"
   ]
  },
  {
   "cell_type": "code",
   "execution_count": 27,
   "metadata": {},
   "outputs": [
    {
     "name": "stdout",
     "output_type": "stream",
     "text": [
      "[1, 3, 5, 7, 9, 11, 13, 15, 17, 19]\n"
     ]
    }
   ],
   "source": [
    "def myGenerator(ls):\n",
    "    for i in ls:\n",
    "        yield i*100\n",
    "      \n",
    "        \n",
    "ls = [2*x+1 for x in range(10)]   \n",
    "print(ls)"
   ]
  },
  {
   "cell_type": "code",
   "execution_count": 33,
   "metadata": {},
   "outputs": [],
   "source": [
    "a = myGenerator(ls)\n",
    "length = len(ls)\n"
   ]
  },
  {
   "cell_type": "code",
   "execution_count": 35,
   "metadata": {},
   "outputs": [
    {
     "data": {
      "text/plain": [
       "300"
      ]
     },
     "execution_count": 35,
     "metadata": {},
     "output_type": "execute_result"
    }
   ],
   "source": [
    "next(a)"
   ]
  },
  {
   "cell_type": "code",
   "execution_count": 32,
   "metadata": {},
   "outputs": [
    {
     "name": "stdout",
     "output_type": "stream",
     "text": [
      "100\n",
      "300\n",
      "500\n",
      "700\n",
      "900\n",
      "1100\n",
      "1300\n",
      "1500\n",
      "1700\n",
      "1900\n"
     ]
    }
   ],
   "source": [
    "a = myGenerator(ls)\n",
    "for ele in a:\n",
    "    print(ele)"
   ]
  },
  {
   "cell_type": "markdown",
   "metadata": {},
   "source": [
    "* List, dictionary and tuple are all iterable objects. You can get a iterator by using __iter(myList)__. <br>\n",
    "* In fact, when you use __for__ and __in__ statement, it will create an iterator based on your object, then go through it.\n",
    "* Use __next(myIterator)__ to call the next value of your generator/iterator, until a StopIteration signal raised."
   ]
  },
  {
   "cell_type": "code",
   "execution_count": 37,
   "metadata": {},
   "outputs": [
    {
     "name": "stdout",
     "output_type": "stream",
     "text": [
      "0\n",
      "100\n",
      "200\n",
      "300\n",
      "400\n",
      "500\n",
      "600\n",
      "700\n",
      "800\n",
      "900\n"
     ]
    },
    {
     "ename": "StopIteration",
     "evalue": "",
     "output_type": "error",
     "traceback": [
      "\u001b[0;31m---------------------------------------------------------------------------\u001b[0m",
      "\u001b[0;31mStopIteration\u001b[0m                             Traceback (most recent call last)",
      "\u001b[0;32m<ipython-input-37-c9629bc95595>\u001b[0m in \u001b[0;36m<module>\u001b[0;34m()\u001b[0m\n\u001b[1;32m      2\u001b[0m \u001b[0;34m\u001b[0m\u001b[0m\n\u001b[1;32m      3\u001b[0m \u001b[0;32mwhile\u001b[0m \u001b[0;32mTrue\u001b[0m\u001b[0;34m:\u001b[0m\u001b[0;34m\u001b[0m\u001b[0m\n\u001b[0;32m----> 4\u001b[0;31m     \u001b[0mprint\u001b[0m\u001b[0;34m(\u001b[0m\u001b[0mnext\u001b[0m\u001b[0;34m(\u001b[0m\u001b[0ma\u001b[0m\u001b[0;34m)\u001b[0m\u001b[0;34m)\u001b[0m\u001b[0;34m\u001b[0m\u001b[0m\n\u001b[0m",
      "\u001b[0;31mStopIteration\u001b[0m: "
     ]
    }
   ],
   "source": [
    "a = myGenerator(range(10))\n",
    "\n",
    "while True:\n",
    "    print(next(a))"
   ]
  },
  {
   "cell_type": "code",
   "execution_count": 38,
   "metadata": {},
   "outputs": [
    {
     "name": "stdout",
     "output_type": "stream",
     "text": [
      "a\n",
      "b\n",
      "c\n"
     ]
    },
    {
     "ename": "StopIteration",
     "evalue": "",
     "output_type": "error",
     "traceback": [
      "\u001b[0;31m---------------------------------------------------------------------------\u001b[0m",
      "\u001b[0;31mStopIteration\u001b[0m                             Traceback (most recent call last)",
      "\u001b[0;32m<ipython-input-38-208cbfabddcf>\u001b[0m in \u001b[0;36m<module>\u001b[0;34m()\u001b[0m\n\u001b[1;32m      5\u001b[0m \u001b[0;34m\u001b[0m\u001b[0m\n\u001b[1;32m      6\u001b[0m \u001b[0;32mwhile\u001b[0m \u001b[0;32mTrue\u001b[0m\u001b[0;34m:\u001b[0m\u001b[0;34m\u001b[0m\u001b[0m\n\u001b[0;32m----> 7\u001b[0;31m     \u001b[0mprint\u001b[0m\u001b[0;34m(\u001b[0m\u001b[0mnext\u001b[0m\u001b[0;34m(\u001b[0m\u001b[0mb_iter\u001b[0m\u001b[0;34m)\u001b[0m\u001b[0;34m)\u001b[0m\u001b[0;34m\u001b[0m\u001b[0m\n\u001b[0m",
      "\u001b[0;31mStopIteration\u001b[0m: "
     ]
    }
   ],
   "source": [
    "b = {'a':100,\n",
    "     'b':200,\n",
    "     'c':300}\n",
    "b_iter = iter(b)\n",
    "\n",
    "while True:\n",
    "    print(next(b_iter))"
   ]
  },
  {
   "cell_type": "markdown",
   "metadata": {},
   "source": [
    "## 1.3. Lambda"
   ]
  },
  {
   "cell_type": "code",
   "execution_count": 39,
   "metadata": {},
   "outputs": [
    {
     "name": "stdout",
     "output_type": "stream",
     "text": [
      "7\n"
     ]
    }
   ],
   "source": [
    "# Syntax: functionName = lambda varible: expression\n",
    "'''\n",
    "def fun(x):\n",
    "    return 2*x+1\n",
    "    \n",
    "'''\n",
    "\n",
    "fun = lambda x: 2*x+1\n",
    "print(fun(3))"
   ]
  },
  {
   "cell_type": "markdown",
   "metadata": {},
   "source": [
    "## 1.4 inner function"
   ]
  },
  {
   "cell_type": "markdown",
   "metadata": {},
   "source": [
    "* Function is a object in python (everything is object accually). So Python allows defining a function in a function, and return this function."
   ]
  },
  {
   "cell_type": "code",
   "execution_count": 42,
   "metadata": {},
   "outputs": [
    {
     "name": "stdout",
     "output_type": "stream",
     "text": [
      "Printing from the parent() function jsx\n",
      "Printing from the second_child() function zq\n",
      "Printing from the first_child() function yg\n"
     ]
    }
   ],
   "source": [
    "def parent(p, c1, c2):\n",
    "    print(\"Printing from the parent() function\", p)\n",
    "\n",
    "    def first_child():\n",
    "        print(\"Printing from the first_child() function\", c1)\n",
    "\n",
    "    def second_child():\n",
    "        print(\"Printing from the second_child() function\", c2)\n",
    "\n",
    "    second_child()\n",
    "    first_child()\n",
    "\n",
    "    \n",
    "parent('jsx', 'yg', 'zq')"
   ]
  },
  {
   "cell_type": "code",
   "execution_count": 43,
   "metadata": {},
   "outputs": [
    {
     "ename": "NameError",
     "evalue": "name 'second_child' is not defined",
     "output_type": "error",
     "traceback": [
      "\u001b[0;31m---------------------------------------------------------------------------\u001b[0m",
      "\u001b[0;31mNameError\u001b[0m                                 Traceback (most recent call last)",
      "\u001b[0;32m<ipython-input-43-afb29f492a83>\u001b[0m in \u001b[0;36m<module>\u001b[0;34m()\u001b[0m\n\u001b[0;32m----> 1\u001b[0;31m \u001b[0msecond_child\u001b[0m\u001b[0;34m(\u001b[0m\u001b[0;34m)\u001b[0m\u001b[0;34m\u001b[0m\u001b[0m\n\u001b[0m",
      "\u001b[0;31mNameError\u001b[0m: name 'second_child' is not defined"
     ]
    }
   ],
   "source": [
    "second_child()"
   ]
  },
  {
   "cell_type": "code",
   "execution_count": 45,
   "metadata": {},
   "outputs": [],
   "source": [
    "def parent(num):\n",
    "    def first_child():\n",
    "        return \"Hi, I am Emma\"\n",
    "\n",
    "    def second_child():\n",
    "        return \"Call me Liam\"\n",
    "\n",
    "    if num == 1:\n",
    "        return first_child\n",
    "    else:\n",
    "        return second_child"
   ]
  },
  {
   "cell_type": "code",
   "execution_count": 46,
   "metadata": {},
   "outputs": [
    {
     "name": "stdout",
     "output_type": "stream",
     "text": [
      "<function parent.<locals>.first_child at 0x10e1bbae8> <function parent.<locals>.second_child at 0x10e1bb840>\n"
     ]
    }
   ],
   "source": [
    "first = parent(1)\n",
    "second = parent(2)\n",
    "\n",
    "print(first, second)  # print the adress"
   ]
  },
  {
   "cell_type": "code",
   "execution_count": 47,
   "metadata": {},
   "outputs": [
    {
     "name": "stdout",
     "output_type": "stream",
     "text": [
      "Hi, I am Emma Call me Liam\n"
     ]
    }
   ],
   "source": [
    "print(first(), second())"
   ]
  },
  {
   "cell_type": "markdown",
   "metadata": {},
   "source": [
    "### 1.5. global & nonlocal\n",
    "* Varibles defined within function will be destroyed when function returns.\n",
    "* Keyword __global__ allows you define a global varible within a function body. The global statement is a declaration which holds for the entire current code block. It means that the listed identifiers are to be interpreted as globals.\n",
    "* Any re-assigned varibles will be regarded as a new local varible.\n",
    "* The __nonlocal__ statement causes the listed identifiers to refer to previously bound variables in the nearest enclosing scope excluding globals."
   ]
  },
  {
   "cell_type": "code",
   "execution_count": 49,
   "metadata": {},
   "outputs": [
    {
     "name": "stdout",
     "output_type": "stream",
     "text": [
      "After local assignment: test spam\n",
      "After nonlocal assignment: nonlocal spam\n",
      "After global assignment: nonlocal spam\n",
      "In global scope: global spam\n"
     ]
    }
   ],
   "source": [
    "def scope_test():\n",
    "    def do_local():\n",
    "        spam = \"local spam\"\n",
    "    def do_global():\n",
    "        global spam\n",
    "        spam = \"global spam\"\n",
    "    def do_nonlocal():\n",
    "        nonlocal spam\n",
    "        spam = \"nonlocal spam\"\n",
    "    spam = \"test spam\"\n",
    "    do_local()\n",
    "    print(\"After local assignment:\", spam)\n",
    "    do_nonlocal()\n",
    "    print(\"After nonlocal assignment:\", spam)\n",
    "    do_global()\n",
    "    print(\"After global assignment:\", spam)\n",
    "\n",
    "scope_test()\n",
    "print(\"In global scope:\", spam)"
   ]
  },
  {
   "cell_type": "markdown",
   "metadata": {},
   "source": [
    "### 1.6. Types (optional)\n",
    "* You can use such syntax to specify the types of parameters and return type. (New in Python 3.5)\n",
    "* Types will not be checked while running, but you can use type checkers to check your code.\n",
    "* Many IDEs have their type checkers. You can also use __mypy__ to check your code."
   ]
  },
  {
   "cell_type": "code",
   "execution_count": null,
   "metadata": {},
   "outputs": [],
   "source": [
    "'''\n",
    "def functionName(arg: <argument Type>) -> <returnType>:\n",
    "    functionBody\n",
    "    return yourReturn\n",
    "'''"
   ]
  },
  {
   "cell_type": "markdown",
   "metadata": {},
   "source": [
    "__mypy__ installation in terminal:<br>\n",
    "<code>python3 -m pip install mypy</code><br>\n",
    "\n",
    "\n",
    "Check:<br>\n",
    "<code>mypy MyPythonScript.py</code>"
   ]
  },
  {
   "cell_type": "code",
   "execution_count": null,
   "metadata": {},
   "outputs": [],
   "source": [
    "# Example:\n",
    "from typing import Tuple\n",
    "def func(arg: Tuple[float, float]) -> float:\n",
    "    return sum(arg)"
   ]
  },
  {
   "cell_type": "code",
   "execution_count": null,
   "metadata": {},
   "outputs": [],
   "source": [
    "# interpreter will not check types\n",
    "func((1,2,3))"
   ]
  },
  {
   "cell_type": "markdown",
   "metadata": {},
   "source": [
    "You can try to use __mypy__."
   ]
  },
  {
   "cell_type": "markdown",
   "metadata": {},
   "source": [
    "<code>\n",
    "zhiyuan@zhiyuan-ThinkPad:~$ mypy py_test.py \n",
    "py_test.py:7: error: Argument 1 to \"func\" has incompatible type \"Tuple[int, int, int]\"; expected \"Tuple[float, float]\"\n",
    "\n",
    "</code>"
   ]
  },
  {
   "cell_type": "markdown",
   "metadata": {},
   "source": [
    "Reference: https://www.python.org/dev/peps/pep-0484/"
   ]
  },
  {
   "cell_type": "markdown",
   "metadata": {},
   "source": [
    "## 2. String\n",
    "In last lecture we have already know how to slice a list. Indexing and slicing operation work in the same way for string, let's look into the example in last lecture."
   ]
  },
  {
   "cell_type": "markdown",
   "metadata": {},
   "source": [
    "### 2.1. Index"
   ]
  },
  {
   "cell_type": "code",
   "execution_count": 1,
   "metadata": {},
   "outputs": [
    {
     "name": "stdout",
     "output_type": "stream",
     "text": [
      "Hello World!\n",
      "H\n",
      "llo\n",
      "llo World!\n",
      "!\n",
      "ld!\n",
      "HloWr\n",
      "!dlroW olleH\n"
     ]
    }
   ],
   "source": [
    "#idx:0123456789x \n",
    "s = 'Hello World!'\n",
    "\n",
    "print(s)          # Prints complete list\n",
    "print(s[0])       # Prints first element \n",
    "print(s[2:5])     # Prints elements starting from 3rd to 5th\n",
    "print(s[2:] )     # Prints list starting from 3rd element\n",
    "print(s[-1])      # Prints the last element \n",
    "print(s[-3:]) \n",
    "print(s[0:10:2])   # step-wise slicing; extracting characters with even indexes from the first 10 characters\n",
    "print(s[::-1]) # A frequently used pattern."
   ]
  },
  {
   "cell_type": "markdown",
   "metadata": {},
   "source": [
    "### 2.2. Methods"
   ]
  },
  {
   "cell_type": "code",
   "execution_count": 3,
   "metadata": {},
   "outputs": [],
   "source": [
    "dir(str())  # show all its method"
   ]
  },
  {
   "cell_type": "code",
   "execution_count": 1,
   "metadata": {},
   "outputs": [
    {
     "name": "stdout",
     "output_type": "stream",
     "text": [
      "This string is for TEST.\n",
      "This string is for TEST.    \n",
      "   This string is for TEST.\n",
      "['', '', '', 'This', 'string', 'is', 'for', 'TEST.', '', '', '', '']\n",
      "   this string is for test.    \n",
      "   THIS STRING IS FOR TEST.    \n",
      "3\n",
      "25\n",
      "   **his string is for **ES**.    \n",
      "True\n"
     ]
    }
   ],
   "source": [
    "string='   This string is for TEST.    '\n",
    "print (string.strip() )            # remove both leading and trailing spaces\n",
    "print (string.lstrip() )           # remove leading spaces\n",
    "print (string.rstrip()  )          # remove trailing spaces\n",
    "print (string.split(\" \")) \n",
    "# split s by delimiter \" \" into a list\n",
    "print (string.lower())             # convert to lowercase\n",
    "print (string.upper())             # convert to uppercase\n",
    "print (string.find(\"T\"))           # get the index of the first \"T\" in s starting from the left; return -1 if \"T\" is not in string\n",
    "print (string.rfind(\"T\"))          # get the index of the first \"T\" in s starting from the right; return -1 if \"T\" is not in string\n",
    "print (string.replace(\"T\", \"**\"))  # replace all occurrences of \"W\" by \"**\"\n",
    "print ('string' in string)         # true or false"
   ]
  },
  {
   "cell_type": "code",
   "execution_count": 20,
   "metadata": {},
   "outputs": [
    {
     "name": "stdout",
     "output_type": "stream",
     "text": [
      "['', '', '', 'This', 'string', 'is', 'for', 'TEST.', '', '', '', '']\n",
      "******This**string**is**for**TEST.********\n"
     ]
    }
   ],
   "source": [
    "string='   This string is for TEST.    '\n",
    "string2list = string.split(' ')\n",
    "list2string = '**'.join(string2list)\n",
    "print(string2list)\n",
    "print(list2string)"
   ]
  },
  {
   "cell_type": "markdown",
   "metadata": {},
   "source": [
    "#### \\*Optional: regular expression: https://www.py4e.com/lessons/regex"
   ]
  },
  {
   "cell_type": "markdown",
   "metadata": {},
   "source": [
    "### 2.3. String formatting"
   ]
  },
  {
   "cell_type": "markdown",
   "metadata": {},
   "source": [
    "Python supports formatting values into strings. Although this can include very complicated expressions, the most\n",
    "basic usage is to insert values into a string with the %s placeholder, %s stands for a placeholder for string, and %d stands for a integer. %f stands for a float number with fixed points.<br>\n",
    "\\*More information: https://docs.python.org/3.6/library/string.html#format-string-syntax"
   ]
  },
  {
   "cell_type": "markdown",
   "metadata": {},
   "source": [
    "###### Introducing String Formatting"
   ]
  },
  {
   "cell_type": "code",
   "execution_count": 21,
   "metadata": {},
   "outputs": [
    {
     "name": "stdout",
     "output_type": "stream",
     "text": [
      "First, thou shalt count to 100\n",
      "Bring me a banana\n",
      "From Hoboken to Jersey City\n",
      "My name is Peter, I am 23 years old.\n",
      "doc string : list() -> new empty list\n",
      "list(iterable) -> new list initialized from iterable's items\n",
      "Units destroyed: 101\n"
     ]
    }
   ],
   "source": [
    "print(\"First, thou shalt count to {0}\".format(100,200))  # References first positional argument\n",
    "print(\"Bring me a {}\".format('banana'))                   # Implicitly references the first positional argument\n",
    "print(\"From {1} to {0}\".format('Jersey City', 'Hoboken'))                   # Same as \"From {0} to {1}\"\n",
    "print(\"My name is {name}, I am {age} years old.\".format(name = 'Peter', age = 23))  # References keyword argument 'name'\n",
    "print(\"doc string : {0.__doc__}\".format([1,2,3]))      # 'weight' attribute of first positional arg\n",
    "print(\"Units destroyed: {players[1]}\".format(players = [100,101,102]))   # First element of keyword argument 'players'"
   ]
  },
  {
   "cell_type": "markdown",
   "metadata": {},
   "source": [
    "###### Another way to format string"
   ]
  },
  {
   "cell_type": "code",
   "execution_count": 1,
   "metadata": {},
   "outputs": [
    {
     "data": {
      "text/plain": [
       "'uid=sa, 4'"
      ]
     },
     "execution_count": 1,
     "metadata": {},
     "output_type": "execute_result"
    }
   ],
   "source": [
    "k = 'uid'\n",
    "v = \"sa\"\n",
    "\"%s=%s, %d\" % (k, v, 4.0)"
   ]
  },
  {
   "cell_type": "markdown",
   "metadata": {},
   "source": [
    "###### Formatting Numbers"
   ]
  },
  {
   "cell_type": "code",
   "execution_count": 2,
   "metadata": {},
   "outputs": [
    {
     "name": "stdout",
     "output_type": "stream",
     "text": [
      "Today's stock price: 50.462500\n"
     ]
    }
   ],
   "source": [
    "print(\"Today's stock price: %f\" % 50.4625)"
   ]
  },
  {
   "cell_type": "code",
   "execution_count": 3,
   "metadata": {},
   "outputs": [
    {
     "name": "stdout",
     "output_type": "stream",
     "text": [
      "Today's stock price: 50.47\n"
     ]
    }
   ],
   "source": [
    "print(\"Today's stock price: %0.2f\" % 50.4675)"
   ]
  },
  {
   "cell_type": "code",
   "execution_count": 4,
   "metadata": {},
   "outputs": [
    {
     "name": "stdout",
     "output_type": "stream",
     "text": [
      "Change since yesterday: 1.5000\n"
     ]
    }
   ],
   "source": [
    "print(\"Change since yesterday: %.4f\" % 1.5)"
   ]
  },
  {
   "cell_type": "markdown",
   "metadata": {},
   "source": [
    "## 3. Mapping Lists"
   ]
  },
  {
   "cell_type": "markdown",
   "metadata": {},
   "source": [
    "One of the most powerful features of Python is the list comprehension, which provides a compact way of mapping a\n",
    "list into another list by applying a function to each of the elements of the list."
   ]
  },
  {
   "cell_type": "markdown",
   "metadata": {},
   "source": [
    "###### Introducing List Comprehensions"
   ]
  },
  {
   "cell_type": "code",
   "execution_count": 5,
   "metadata": {},
   "outputs": [
    {
     "data": {
      "text/plain": [
       "[2, 18, 16, 8]"
      ]
     },
     "execution_count": 5,
     "metadata": {},
     "output_type": "execute_result"
    }
   ],
   "source": [
    "li = [1, 9, 8, 4] \n",
    "[x*2 for x in li]"
   ]
  },
  {
   "cell_type": "code",
   "execution_count": 8,
   "metadata": {},
   "outputs": [
    {
     "data": {
      "text/plain": [
       "[1, 9, 8, 4, 1, 9, 8, 4]"
      ]
     },
     "execution_count": 8,
     "metadata": {},
     "output_type": "execute_result"
    }
   ],
   "source": [
    "y = li*2\n",
    "y"
   ]
  },
  {
   "cell_type": "code",
   "execution_count": 9,
   "metadata": {},
   "outputs": [
    {
     "data": {
      "text/plain": [
       "[1, 1, 0, 0]"
      ]
     },
     "execution_count": 9,
     "metadata": {},
     "output_type": "execute_result"
    }
   ],
   "source": [
    "li = [e%2 for e in li]\n",
    "li"
   ]
  },
  {
   "cell_type": "markdown",
   "metadata": {},
   "source": [
    "#### A useful function: enumerate(myList, start_idx = 0)"
   ]
  },
  {
   "cell_type": "code",
   "execution_count": 10,
   "metadata": {},
   "outputs": [
    {
     "name": "stdout",
     "output_type": "stream",
     "text": [
      "[1, 3, 5, 7, 9, 11, 13, 15, 17, 19]\n",
      "0 1\n",
      "1 3\n",
      "2 5\n",
      "3 7\n",
      "4 9\n",
      "5 11\n",
      "6 13\n",
      "7 15\n",
      "8 17\n",
      "9 19\n"
     ]
    }
   ],
   "source": [
    "ls = [2*x+1 for x in range(10)]\n",
    "print(ls)\n",
    "\n",
    "for i,ele in enumerate(ls):\n",
    "    print(i, ele)"
   ]
  },
  {
   "cell_type": "markdown",
   "metadata": {},
   "source": [
    "## 4. Summary"
   ]
  },
  {
   "cell_type": "markdown",
   "metadata": {},
   "source": [
    "###### Review"
   ]
  },
  {
   "cell_type": "code",
   "execution_count": 11,
   "metadata": {},
   "outputs": [
    {
     "name": "stdout",
     "output_type": "stream",
     "text": [
      "server=mpilgrim;database=master;uid=sa;pwd=secret\n"
     ]
    }
   ],
   "source": [
    "def buildConnectionString(params):\n",
    "    \"\"\"Build a connection string from a dictionary of parameters.\n",
    "    \n",
    "    Returns string.\"\"\"\n",
    "    return \";\".join([\"%s=%s\" % (k, v) for k, v in params.items()])\n",
    "\n",
    "if __name__ == \"__main__\":\n",
    "    myParams = {\"server\":\"mpilgrim\", \\     #表示还未结束\n",
    "                \"database\":\"master\", \\\n",
    "                \"uid\":\"sa\", \\\n",
    "                \"pwd\":\"secret\" \\\n",
    "                }\n",
    "    print(buildConnectionString(myParams))"
   ]
  },
  {
   "cell_type": "markdown",
   "metadata": {},
   "source": [
    "## 5. Importing modules"
   ]
  },
  {
   "cell_type": "markdown",
   "metadata": {},
   "source": [
    "* Using import statement to import modules or packages in Python\n",
    "* sys.path will show a list of paths where this interpreter searches modules.\n",
    "* Basic syntax I: __import myPackage.myModule as Alias__\n",
    "* Basic syntax II: __from myPackage.myModule import myModule (or myObject)__\n",
    "* You can also use: __from myPackage import *__ , but such syntax is not safe because it will import all objects into your global namescope. Try to avoid such syntax.\n",
    "* Create \\_\\_init\\_\\_.py in the package directory"
   ]
  },
  {
   "cell_type": "code",
   "execution_count": 1,
   "metadata": {},
   "outputs": [
    {
     "data": {
      "text/plain": [
       "['',\n",
       " '/anaconda3/lib/python36.zip',\n",
       " '/anaconda3/lib/python3.6',\n",
       " '/anaconda3/lib/python3.6/lib-dynload',\n",
       " '/anaconda3/lib/python3.6/site-packages',\n",
       " '/anaconda3/lib/python3.6/site-packages/aeosa',\n",
       " '/anaconda3/lib/python3.6/site-packages/IPython/extensions',\n",
       " '/Users/shangxingjiang/.ipython']"
      ]
     },
     "execution_count": 1,
     "metadata": {},
     "output_type": "execute_result"
    }
   ],
   "source": [
    "# packages/modules search path\n",
    "\n",
    "import sys\n",
    "sys.path"
   ]
  },
  {
   "cell_type": "code",
   "execution_count": 2,
   "metadata": {},
   "outputs": [
    {
     "name": "stdout",
     "output_type": "stream",
     "text": [
      "/Users/shangxingjiang\n"
     ]
    }
   ],
   "source": [
    "# Get your current working folder\n",
    "\n",
    "import os\n",
    "print(os.getcwd())"
   ]
  },
  {
   "cell_type": "code",
   "execution_count": 3,
   "metadata": {},
   "outputs": [
    {
     "data": {
      "text/plain": [
       "0.650908"
      ]
     },
     "execution_count": 3,
     "metadata": {},
     "output_type": "execute_result"
    }
   ],
   "source": [
    "# Set a alias 't' for module 'time'\n",
    "\n",
    "import time as t\n",
    "t.clock()"
   ]
  },
  {
   "cell_type": "code",
   "execution_count": 5,
   "metadata": {},
   "outputs": [],
   "source": [
    "dir(t)"
   ]
  },
  {
   "cell_type": "code",
   "execution_count": 7,
   "metadata": {},
   "outputs": [],
   "source": [
    "# Get all built-in functions and objects\n",
    "import builtins\n",
    "#dir(builtins)"
   ]
  },
  {
   "cell_type": "markdown",
   "metadata": {},
   "source": [
    "### 5.1. Create your module"
   ]
  },
  {
   "cell_type": "markdown",
   "metadata": {},
   "source": [
    "* You can create your module by write your functions, classes, objects in a python script;\n",
    "* When importing this module, make sure your interpreter can find this module;\n",
    "* Generally, we put individual module and main script in a same folder;\n",
    "* Write a test block by using \\_\\_name\\_\\_ == '\\_\\_main\\_\\_'\n",
    "* .pyc file: a compiled file of your module.\n"
   ]
  },
  {
   "cell_type": "markdown",
   "metadata": {},
   "source": [
    "#### 5.1.1 An example: Fibonacci \n",
    "See attached files. Execute main.py and main2.py in attached directory. "
   ]
  },
  {
   "cell_type": "markdown",
   "metadata": {},
   "source": [
    "### 5.2. Create your packages\n",
    "* Create a file called \\_\\_init\\_\\_.py in your package and subpackages. It tells interpreter to regard this directory as a package. It can be an empty file.\n",
    "* \n",
    "* Note that code in this section may not work if your interpreter can not find this package."
   ]
  },
  {
   "cell_type": "code",
   "execution_count": null,
   "metadata": {},
   "outputs": [],
   "source": [
    "#### A package structure example:\n",
    "'''\n",
    "sound/                          Top-level package\n",
    "      __init__.py               Initialize the sound package\n",
    "      formats/                  Subpackage for file format conversions\n",
    "              __init__.py\n",
    "              wavread.py\n",
    "              wavwrite.py\n",
    "              aiffread.py\n",
    "              aiffwrite.py\n",
    "              auread.py\n",
    "              auwrite.py\n",
    "              ...\n",
    "      effects/                  Subpackage for sound effects\n",
    "              __init__.py\n",
    "              echo.py\n",
    "              surround.py\n",
    "              reverse.py\n",
    "              ...\n",
    "      filters/                  Subpackage for filters\n",
    "              __init__.py\n",
    "              equalizer.py\n",
    "              vocoder.py\n",
    "              karaoke.py\n",
    "              ...\n",
    "'''"
   ]
  },
  {
   "cell_type": "markdown",
   "metadata": {},
   "source": [
    "Your python interpreter will look for this package through __sys.path__.<br>\n",
    "Users of this package can import each individual module by using such syntax:"
   ]
  },
  {
   "cell_type": "code",
   "execution_count": null,
   "metadata": {},
   "outputs": [],
   "source": [
    "import sound.effects.echo"
   ]
  },
  {
   "cell_type": "markdown",
   "metadata": {},
   "source": [
    "Alternatively, we can also use such syntax:"
   ]
  },
  {
   "cell_type": "code",
   "execution_count": null,
   "metadata": {},
   "outputs": [],
   "source": [
    "from sound.effects import echo"
   ]
  },
  {
   "cell_type": "markdown",
   "metadata": {},
   "source": [
    "You can call the functions or varibles in echo.py like this:"
   ]
  },
  {
   "cell_type": "code",
   "execution_count": null,
   "metadata": {},
   "outputs": [],
   "source": [
    "echo.echofilter(input, output, delay=0.7, atten=4)"
   ]
  },
  {
   "cell_type": "markdown",
   "metadata": {},
   "source": [
    "Alternatively, you can also import functions or varibles into global scope."
   ]
  },
  {
   "cell_type": "code",
   "execution_count": null,
   "metadata": {},
   "outputs": [],
   "source": [
    "from sound.effects.echo import echofilter\n",
    "\n",
    "echofilter(input, output, delay=0.7, atten=4)"
   ]
  },
  {
   "cell_type": "markdown",
   "metadata": {},
   "source": [
    "### 5.3. Intra-package References"
   ]
  },
  {
   "cell_type": "markdown",
   "metadata": {},
   "source": [
    "You can also write relative imports, with the from module import name form of import statement. These imports use leading dots to indicate the current and parent packages involved in the relative import. From the __surround.py__ module for example, you might use:"
   ]
  },
  {
   "cell_type": "code",
   "execution_count": null,
   "metadata": {},
   "outputs": [],
   "source": [
    "from . import echo                # .. means upper level directory \n",
    "from .. import formats\n",
    "from ..filters import equalizer"
   ]
  },
  {
   "cell_type": "markdown",
   "metadata": {},
   "source": [
    "Reference: https://docs.python.org/3/tutorial/modules.html"
   ]
  }
 ],
 "metadata": {
  "kernelspec": {
   "display_name": "Python 3",
   "language": "python",
   "name": "python3"
  },
  "language_info": {
   "codemirror_mode": {
    "name": "ipython",
    "version": 3
   },
   "file_extension": ".py",
   "mimetype": "text/x-python",
   "name": "python",
   "nbconvert_exporter": "python",
   "pygments_lexer": "ipython3",
   "version": "3.6.5"
  }
 },
 "nbformat": 4,
 "nbformat_minor": 1
}
